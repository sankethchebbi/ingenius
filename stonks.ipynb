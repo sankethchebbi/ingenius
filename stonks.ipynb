{
  "nbformat": 4,
  "nbformat_minor": 0,
  "metadata": {
    "kernelspec": {
      "display_name": "Python 3",
      "language": "python",
      "name": "python3"
    },
    "language_info": {
      "codemirror_mode": {
        "name": "ipython",
        "version": 3
      },
      "file_extension": ".py",
      "mimetype": "text/x-python",
      "name": "python",
      "nbconvert_exporter": "python",
      "pygments_lexer": "ipython3",
      "version": "3.6.9"
    },
    "colab": {
      "name": "stonks.ipynb",
      "provenance": [],
      "include_colab_link": true
    }
  },
  "cells": [
    {
      "cell_type": "markdown",
      "metadata": {
        "id": "view-in-github",
        "colab_type": "text"
      },
      "source": [
        "<a href=\"https://colab.research.google.com/github/sankethchebbi/ingenius/blob/main/stonks.ipynb\" target=\"_parent\"><img src=\"https://colab.research.google.com/assets/colab-badge.svg\" alt=\"Open In Colab\"/></a>"
      ]
    },
    {
      "cell_type": "markdown",
      "metadata": {
        "id": "qpVOOjPwkDjs"
      },
      "source": [
        "Stock\n"
      ]
    },
    {
      "cell_type": "code",
      "metadata": {
        "id": "XSZ4d85DkDj4"
      },
      "source": [
        "### Keras and Tensorflow >2.0"
      ],
      "execution_count": null,
      "outputs": []
    },
    {
      "cell_type": "code",
      "metadata": {
        "id": "uvW-gujUkDj-"
      },
      "source": [
        "### Data Collection\n",
        "import pandas_datareader as pdr\n",
        "key=\"1d27fe4d5eb15d9cb62a33d018ff8f9e356404cf\""
      ],
      "execution_count": null,
      "outputs": []
    },
    {
      "cell_type": "code",
      "metadata": {
        "id": "kbduj_0ukDkB"
      },
      "source": [
        "df = pdr.get_data_tiingo('AAPL', api_key=key)"
      ],
      "execution_count": null,
      "outputs": []
    },
    {
      "cell_type": "code",
      "metadata": {
        "id": "XozUyBS6kDkD"
      },
      "source": [
        "df.to_csv('AAPL.csv')"
      ],
      "execution_count": null,
      "outputs": []
    },
    {
      "cell_type": "code",
      "metadata": {
        "id": "Vgo1bLtrkDkF"
      },
      "source": [
        "import pandas as pd"
      ],
      "execution_count": null,
      "outputs": []
    },
    {
      "cell_type": "code",
      "metadata": {
        "id": "dxjOKZ4skDkH"
      },
      "source": [
        "df=pd.read_csv('AAPL.csv')"
      ],
      "execution_count": null,
      "outputs": []
    },
    {
      "cell_type": "code",
      "metadata": {
        "colab": {
          "base_uri": "https://localhost:8080/",
          "height": 313
        },
        "id": "cvi5rg4TkDkJ",
        "outputId": "e33a7e08-3880-4f9a-c9a6-202fb6917ca0"
      },
      "source": [
        "df.head()"
      ],
      "execution_count": null,
      "outputs": [
        {
          "output_type": "execute_result",
          "data": {
            "text/html": [
              "<div>\n",
              "<style scoped>\n",
              "    .dataframe tbody tr th:only-of-type {\n",
              "        vertical-align: middle;\n",
              "    }\n",
              "\n",
              "    .dataframe tbody tr th {\n",
              "        vertical-align: top;\n",
              "    }\n",
              "\n",
              "    .dataframe thead th {\n",
              "        text-align: right;\n",
              "    }\n",
              "</style>\n",
              "<table border=\"1\" class=\"dataframe\">\n",
              "  <thead>\n",
              "    <tr style=\"text-align: right;\">\n",
              "      <th></th>\n",
              "      <th>symbol</th>\n",
              "      <th>date</th>\n",
              "      <th>close</th>\n",
              "      <th>high</th>\n",
              "      <th>low</th>\n",
              "      <th>open</th>\n",
              "      <th>volume</th>\n",
              "      <th>adjClose</th>\n",
              "      <th>adjHigh</th>\n",
              "      <th>adjLow</th>\n",
              "      <th>adjOpen</th>\n",
              "      <th>adjVolume</th>\n",
              "      <th>divCash</th>\n",
              "      <th>splitFactor</th>\n",
              "    </tr>\n",
              "  </thead>\n",
              "  <tbody>\n",
              "    <tr>\n",
              "      <th>0</th>\n",
              "      <td>AAPL</td>\n",
              "      <td>2016-11-08 00:00:00+00:00</td>\n",
              "      <td>111.06</td>\n",
              "      <td>111.720</td>\n",
              "      <td>109.70</td>\n",
              "      <td>110.31</td>\n",
              "      <td>24254179</td>\n",
              "      <td>26.131551</td>\n",
              "      <td>26.286844</td>\n",
              "      <td>25.811554</td>\n",
              "      <td>25.955082</td>\n",
              "      <td>97016716</td>\n",
              "      <td>0.0</td>\n",
              "      <td>1.0</td>\n",
              "    </tr>\n",
              "    <tr>\n",
              "      <th>1</th>\n",
              "      <td>AAPL</td>\n",
              "      <td>2016-11-09 00:00:00+00:00</td>\n",
              "      <td>110.88</td>\n",
              "      <td>111.320</td>\n",
              "      <td>108.05</td>\n",
              "      <td>109.88</td>\n",
              "      <td>59176361</td>\n",
              "      <td>26.089199</td>\n",
              "      <td>26.192727</td>\n",
              "      <td>25.423322</td>\n",
              "      <td>25.853907</td>\n",
              "      <td>236705444</td>\n",
              "      <td>0.0</td>\n",
              "      <td>1.0</td>\n",
              "    </tr>\n",
              "    <tr>\n",
              "      <th>2</th>\n",
              "      <td>AAPL</td>\n",
              "      <td>2016-11-10 00:00:00+00:00</td>\n",
              "      <td>107.79</td>\n",
              "      <td>111.090</td>\n",
              "      <td>105.83</td>\n",
              "      <td>111.09</td>\n",
              "      <td>57134541</td>\n",
              "      <td>25.362146</td>\n",
              "      <td>26.138610</td>\n",
              "      <td>24.900973</td>\n",
              "      <td>26.138610</td>\n",
              "      <td>228538164</td>\n",
              "      <td>0.0</td>\n",
              "      <td>1.0</td>\n",
              "    </tr>\n",
              "    <tr>\n",
              "      <th>3</th>\n",
              "      <td>AAPL</td>\n",
              "      <td>2016-11-11 00:00:00+00:00</td>\n",
              "      <td>108.43</td>\n",
              "      <td>108.870</td>\n",
              "      <td>106.55</td>\n",
              "      <td>106.92</td>\n",
              "      <td>34143898</td>\n",
              "      <td>25.512733</td>\n",
              "      <td>25.616261</td>\n",
              "      <td>25.070384</td>\n",
              "      <td>25.157442</td>\n",
              "      <td>136575592</td>\n",
              "      <td>0.0</td>\n",
              "      <td>1.0</td>\n",
              "    </tr>\n",
              "    <tr>\n",
              "      <th>4</th>\n",
              "      <td>AAPL</td>\n",
              "      <td>2016-11-14 00:00:00+00:00</td>\n",
              "      <td>105.71</td>\n",
              "      <td>107.809</td>\n",
              "      <td>104.08</td>\n",
              "      <td>107.32</td>\n",
              "      <td>51175504</td>\n",
              "      <td>24.872738</td>\n",
              "      <td>25.366616</td>\n",
              "      <td>24.489212</td>\n",
              "      <td>25.251559</td>\n",
              "      <td>204702016</td>\n",
              "      <td>0.0</td>\n",
              "      <td>1.0</td>\n",
              "    </tr>\n",
              "  </tbody>\n",
              "</table>\n",
              "</div>"
            ],
            "text/plain": [
              "  symbol                       date   close  ...  adjVolume  divCash  splitFactor\n",
              "0   AAPL  2016-11-08 00:00:00+00:00  111.06  ...   97016716      0.0          1.0\n",
              "1   AAPL  2016-11-09 00:00:00+00:00  110.88  ...  236705444      0.0          1.0\n",
              "2   AAPL  2016-11-10 00:00:00+00:00  107.79  ...  228538164      0.0          1.0\n",
              "3   AAPL  2016-11-11 00:00:00+00:00  108.43  ...  136575592      0.0          1.0\n",
              "4   AAPL  2016-11-14 00:00:00+00:00  105.71  ...  204702016      0.0          1.0\n",
              "\n",
              "[5 rows x 14 columns]"
            ]
          },
          "metadata": {},
          "execution_count": 10
        }
      ]
    },
    {
      "cell_type": "code",
      "metadata": {
        "colab": {
          "base_uri": "https://localhost:8080/",
          "height": 313
        },
        "id": "HoWogHRnkDkP",
        "outputId": "d1858236-34a6-49b5-fa60-f18fbfd934b8"
      },
      "source": [
        "df.tail()"
      ],
      "execution_count": null,
      "outputs": [
        {
          "output_type": "execute_result",
          "data": {
            "text/html": [
              "<div>\n",
              "<style scoped>\n",
              "    .dataframe tbody tr th:only-of-type {\n",
              "        vertical-align: middle;\n",
              "    }\n",
              "\n",
              "    .dataframe tbody tr th {\n",
              "        vertical-align: top;\n",
              "    }\n",
              "\n",
              "    .dataframe thead th {\n",
              "        text-align: right;\n",
              "    }\n",
              "</style>\n",
              "<table border=\"1\" class=\"dataframe\">\n",
              "  <thead>\n",
              "    <tr style=\"text-align: right;\">\n",
              "      <th></th>\n",
              "      <th>symbol</th>\n",
              "      <th>date</th>\n",
              "      <th>close</th>\n",
              "      <th>high</th>\n",
              "      <th>low</th>\n",
              "      <th>open</th>\n",
              "      <th>volume</th>\n",
              "      <th>adjClose</th>\n",
              "      <th>adjHigh</th>\n",
              "      <th>adjLow</th>\n",
              "      <th>adjOpen</th>\n",
              "      <th>adjVolume</th>\n",
              "      <th>divCash</th>\n",
              "      <th>splitFactor</th>\n",
              "    </tr>\n",
              "  </thead>\n",
              "  <tbody>\n",
              "    <tr>\n",
              "      <th>1253</th>\n",
              "      <td>AAPL</td>\n",
              "      <td>2021-11-01 00:00:00+00:00</td>\n",
              "      <td>148.96</td>\n",
              "      <td>149.70</td>\n",
              "      <td>147.80</td>\n",
              "      <td>148.985</td>\n",
              "      <td>73396551</td>\n",
              "      <td>148.743688</td>\n",
              "      <td>149.482614</td>\n",
              "      <td>147.585373</td>\n",
              "      <td>148.768652</td>\n",
              "      <td>73396551</td>\n",
              "      <td>0.00</td>\n",
              "      <td>1.0</td>\n",
              "    </tr>\n",
              "    <tr>\n",
              "      <th>1254</th>\n",
              "      <td>AAPL</td>\n",
              "      <td>2021-11-02 00:00:00+00:00</td>\n",
              "      <td>150.02</td>\n",
              "      <td>151.57</td>\n",
              "      <td>148.65</td>\n",
              "      <td>148.660</td>\n",
              "      <td>68922374</td>\n",
              "      <td>149.802149</td>\n",
              "      <td>151.349898</td>\n",
              "      <td>148.434139</td>\n",
              "      <td>148.444124</td>\n",
              "      <td>68922374</td>\n",
              "      <td>0.00</td>\n",
              "      <td>1.0</td>\n",
              "    </tr>\n",
              "    <tr>\n",
              "      <th>1255</th>\n",
              "      <td>AAPL</td>\n",
              "      <td>2021-11-03 00:00:00+00:00</td>\n",
              "      <td>151.49</td>\n",
              "      <td>151.97</td>\n",
              "      <td>149.82</td>\n",
              "      <td>150.390</td>\n",
              "      <td>54511534</td>\n",
              "      <td>151.270015</td>\n",
              "      <td>151.749317</td>\n",
              "      <td>149.602440</td>\n",
              "      <td>150.171612</td>\n",
              "      <td>54511534</td>\n",
              "      <td>0.00</td>\n",
              "      <td>1.0</td>\n",
              "    </tr>\n",
              "    <tr>\n",
              "      <th>1256</th>\n",
              "      <td>AAPL</td>\n",
              "      <td>2021-11-04 00:00:00+00:00</td>\n",
              "      <td>150.96</td>\n",
              "      <td>152.43</td>\n",
              "      <td>150.64</td>\n",
              "      <td>151.580</td>\n",
              "      <td>60394616</td>\n",
              "      <td>150.740784</td>\n",
              "      <td>152.208650</td>\n",
              "      <td>150.421249</td>\n",
              "      <td>151.359884</td>\n",
              "      <td>60394616</td>\n",
              "      <td>0.00</td>\n",
              "      <td>1.0</td>\n",
              "    </tr>\n",
              "    <tr>\n",
              "      <th>1257</th>\n",
              "      <td>AAPL</td>\n",
              "      <td>2021-11-05 00:00:00+00:00</td>\n",
              "      <td>151.28</td>\n",
              "      <td>152.20</td>\n",
              "      <td>150.06</td>\n",
              "      <td>151.890</td>\n",
              "      <td>65463883</td>\n",
              "      <td>151.280000</td>\n",
              "      <td>152.200000</td>\n",
              "      <td>150.060000</td>\n",
              "      <td>151.890000</td>\n",
              "      <td>65463883</td>\n",
              "      <td>0.22</td>\n",
              "      <td>1.0</td>\n",
              "    </tr>\n",
              "  </tbody>\n",
              "</table>\n",
              "</div>"
            ],
            "text/plain": [
              "     symbol                       date   close  ...  adjVolume  divCash  splitFactor\n",
              "1253   AAPL  2021-11-01 00:00:00+00:00  148.96  ...   73396551     0.00          1.0\n",
              "1254   AAPL  2021-11-02 00:00:00+00:00  150.02  ...   68922374     0.00          1.0\n",
              "1255   AAPL  2021-11-03 00:00:00+00:00  151.49  ...   54511534     0.00          1.0\n",
              "1256   AAPL  2021-11-04 00:00:00+00:00  150.96  ...   60394616     0.00          1.0\n",
              "1257   AAPL  2021-11-05 00:00:00+00:00  151.28  ...   65463883     0.22          1.0\n",
              "\n",
              "[5 rows x 14 columns]"
            ]
          },
          "metadata": {},
          "execution_count": 11
        }
      ]
    },
    {
      "cell_type": "code",
      "metadata": {
        "id": "28bQhU9ikDkT"
      },
      "source": [
        "df1=df.reset_index()['close']"
      ],
      "execution_count": null,
      "outputs": []
    },
    {
      "cell_type": "code",
      "metadata": {
        "colab": {
          "base_uri": "https://localhost:8080/"
        },
        "id": "d-BGPzjHkDkV",
        "outputId": "9bab4c54-1a5a-454c-d770-09148607ce8a"
      },
      "source": [
        "df1"
      ],
      "execution_count": null,
      "outputs": [
        {
          "output_type": "execute_result",
          "data": {
            "text/plain": [
              "0       111.06\n",
              "1       110.88\n",
              "2       107.79\n",
              "3       108.43\n",
              "4       105.71\n",
              "         ...  \n",
              "1253    148.96\n",
              "1254    150.02\n",
              "1255    151.49\n",
              "1256    150.96\n",
              "1257    151.28\n",
              "Name: close, Length: 1258, dtype: float64"
            ]
          },
          "metadata": {},
          "execution_count": 13
        }
      ]
    },
    {
      "cell_type": "code",
      "metadata": {
        "colab": {
          "base_uri": "https://localhost:8080/",
          "height": 282
        },
        "id": "EKrDXSvEkDkb",
        "outputId": "f6383adc-d7f7-4d6a-ebf5-b2985fd101ad"
      },
      "source": [
        "import matplotlib.pyplot as plt\n",
        "plt.plot(df1)"
      ],
      "execution_count": null,
      "outputs": [
        {
          "output_type": "execute_result",
          "data": {
            "text/plain": [
              "[<matplotlib.lines.Line2D at 0x7f457246a3d0>]"
            ]
          },
          "metadata": {},
          "execution_count": 14
        },
        {
          "output_type": "display_data",
          "data": {
            "image/png": "[encoded data removed]",
            "text/plain": [
              "<Figure size 432x288 with 1 Axes>"
            ]
          },
          "metadata": {
            "needs_background": "light"
          }
        }
      ]
    },
    {
      "cell_type": "code",
      "metadata": {
        "id": "xvdrhmp5kDke"
      },
      "source": [
        "### LSTM are sensitive to the scale of the data. so we apply MinMax scaler "
      ],
      "execution_count": null,
      "outputs": []
    },
    {
      "cell_type": "code",
      "metadata": {
        "id": "dvUmQI0IkDkg"
      },
      "source": [
        "import numpy as np"
      ],
      "execution_count": null,
      "outputs": []
    },
    {
      "cell_type": "code",
      "metadata": {
        "colab": {
          "base_uri": "https://localhost:8080/"
        },
        "id": "TgpO6ujTkDkh",
        "outputId": "2642427a-2222-4e69-cda3-b35bc7476f33"
      },
      "source": [
        "df1"
      ],
      "execution_count": null,
      "outputs": [
        {
          "output_type": "execute_result",
          "data": {
            "text/plain": [
              "0       111.06\n",
              "1       110.88\n",
              "2       107.79\n",
              "3       108.43\n",
              "4       105.71\n",
              "         ...  \n",
              "1253    148.96\n",
              "1254    150.02\n",
              "1255    151.49\n",
              "1256    150.96\n",
              "1257    151.28\n",
              "Name: close, Length: 1258, dtype: float64"
            ]
          },
          "metadata": {},
          "execution_count": 16
        }
      ]
    },
    {
      "cell_type": "code",
      "metadata": {
        "id": "TSKkzCeekDki"
      },
      "source": [
        "from sklearn.preprocessing import MinMaxScaler\n",
        "scaler=MinMaxScaler(feature_range=(0,1))\n",
        "df1=scaler.fit_transform(np.array(df1).reshape(-1,1))"
      ],
      "execution_count": null,
      "outputs": []
    },
    {
      "cell_type": "code",
      "metadata": {
        "colab": {
          "base_uri": "https://localhost:8080/"
        },
        "id": "zK-x5DPpkDkl",
        "outputId": "f9f01844-1a4f-4262-b551-26a4283d0366"
      },
      "source": [
        "print(df1)"
      ],
      "execution_count": null,
      "outputs": [
        {
          "output_type": "stream",
          "name": "stdout",
          "text": [
            "[[0.01336231]\n",
            " [0.01291273]\n",
            " [0.00519506]\n",
            " ...\n",
            " [0.11434138]\n",
            " [0.11301763]\n",
            " [0.11381687]]\n"
          ]
        }
      ]
    },
    {
      "cell_type": "code",
      "metadata": {
        "id": "EzBq27_zkDkm"
      },
      "source": [
        "##splitting dataset into train and test split\n",
        "training_size=int(len(df1)*0.65)\n",
        "test_size=len(df1)-training_size\n",
        "train_data,test_data=df1[0:training_size,:],df1[training_size:len(df1),:1]"
      ],
      "execution_count": null,
      "outputs": []
    },
    {
      "cell_type": "code",
      "metadata": {
        "colab": {
          "base_uri": "https://localhost:8080/"
        },
        "id": "5Sa_W33IkDko",
        "outputId": "09cc7f57-b920-40ce-8f54-d2e7a4b1a6ca"
      },
      "source": [
        "training_size,test_size"
      ],
      "execution_count": null,
      "outputs": [
        {
          "output_type": "execute_result",
          "data": {
            "text/plain": [
              "(817, 441)"
            ]
          },
          "metadata": {},
          "execution_count": 20
        }
      ]
    },
    {
      "cell_type": "code",
      "metadata": {
        "colab": {
          "base_uri": "https://localhost:8080/"
        },
        "id": "pVpHagbMkDkp",
        "outputId": "3b82c06a-92da-4a44-ebee-c8be82cfe24e"
      },
      "source": [
        "train_data"
      ],
      "execution_count": null,
      "outputs": [
        {
          "output_type": "execute_result",
          "data": {
            "text/plain": [
              "array([[0.01336231],\n",
              "       [0.01291273],\n",
              "       [0.00519506],\n",
              "       [0.00679355],\n",
              "       [0.        ],\n",
              "       [0.00349668],\n",
              "       [0.01068984],\n",
              "       [0.01058994],\n",
              "       [0.01086468],\n",
              "       [0.01503572],\n",
              "       [0.01521055],\n",
              "       [0.0137869 ],\n",
              "       [0.01518557],\n",
              "       [0.0146361 ],\n",
              "       [0.01436136],\n",
              "       [0.01201359],\n",
              "       [0.00944103],\n",
              "       [0.01046506],\n",
              "       [0.00849193],\n",
              "       [0.01058994],\n",
              "       [0.01328738],\n",
              "       [0.01600979],\n",
              "       [0.02058045],\n",
              "       [0.01895699],\n",
              "       [0.02367751],\n",
              "       [0.02367751],\n",
              "       [0.02525101],\n",
              "       [0.02562566],\n",
              "       [0.02729907],\n",
              "       [0.02807333],\n",
              "       [0.02834807],\n",
              "       [0.0264249 ],\n",
              "       [0.02699935],\n",
              "       [0.02884759],\n",
              "       [0.02759878],\n",
              "       [0.02752385],\n",
              "       [0.02525101],\n",
              "       [0.02607523],\n",
              "       [0.02575054],\n",
              "       [0.02722414],\n",
              "       [0.03047105],\n",
              "       [0.03316849],\n",
              "       [0.03346821],\n",
              "       [0.03506669],\n",
              "       [0.03381787],\n",
              "       [0.03329337],\n",
              "       [0.03569109],\n",
              "       [0.03566612],\n",
              "       [0.03514162],\n",
              "       [0.03569109],\n",
              "       [0.0358909 ],\n",
              "       [0.03561616],\n",
              "       [0.04038663],\n",
              "       [0.04053649],\n",
              "       [0.04056147],\n",
              "       [0.03976223],\n",
              "       [0.03906289],\n",
              "       [0.05754533],\n",
              "       [0.05699585],\n",
              "       [0.05836955],\n",
              "       [0.06139168],\n",
              "       [0.06448874],\n",
              "       [0.06576253],\n",
              "       [0.06671162],\n",
              "       [0.06596234],\n",
              "       [0.06888456],\n",
              "       [0.07320545],\n",
              "       [0.07442929],\n",
              "       [0.07401718],\n",
              "       [0.07495379],\n",
              "       [0.07740147],\n",
              "       [0.0784255 ],\n",
              "       [0.07697687],\n",
              "       [0.07730156],\n",
              "       [0.07797592],\n",
              "       [0.07812578],\n",
              "       [0.08511914],\n",
              "       [0.08304611],\n",
              "       [0.08509416],\n",
              "       [0.0839952 ],\n",
              "       [0.08444478],\n",
              "       [0.08314601],\n",
              "       [0.08234677],\n",
              "       [0.08349568],\n",
              "       [0.08364554],\n",
              "       [0.08312104],\n",
              "       [0.08679255],\n",
              "       [0.087367  ],\n",
              "       [0.08561866],\n",
              "       [0.08929017],\n",
              "       [0.08524402],\n",
              "       [0.08919027],\n",
              "       [0.08794146],\n",
              "       [0.08724212],\n",
              "       [0.08784155],\n",
              "       [0.09513462],\n",
              "       [0.09593386],\n",
              "       [0.09545931],\n",
              "       [0.09478495],\n",
              "       [0.09488486],\n",
              "       [0.09755732],\n",
              "       [0.0956841 ],\n",
              "       [0.09478495],\n",
              "       [0.09398571],\n",
              "       [0.09356112],\n",
              "       [0.08971477],\n",
              "       [0.09013937],\n",
              "       [0.08826615],\n",
              "       [0.0902143 ],\n",
              "       [0.08864079],\n",
              "       [0.08734203],\n",
              "       [0.09173785],\n",
              "       [0.09131325],\n",
              "       [0.094735  ],\n",
              "       [0.09695789],\n",
              "       [0.09483491],\n",
              "       [0.09510965],\n",
              "       [0.09475998],\n",
              "       [0.10207803],\n",
              "       [0.10440082],\n",
              "       [0.10327689],\n",
              "       [0.10195314],\n",
              "       [0.10802238],\n",
              "       [0.11813777],\n",
              "       [0.12058544],\n",
              "       [0.11876218],\n",
              "       [0.12048554],\n",
              "       [0.12585544],\n",
              "       [0.12485639],\n",
              "       [0.12428193],\n",
              "       [0.11124432],\n",
              "       [0.11696388],\n",
              "       [0.11826265],\n",
              "       [0.12058544],\n",
              "       [0.12011089],\n",
              "       [0.11896199],\n",
              "       [0.12028573],\n",
              "       [0.11963635],\n",
              "       [0.1197862 ],\n",
              "       [0.11751336],\n",
              "       [0.11856237],\n",
              "       [0.12423198],\n",
              "       [0.12043559],\n",
              "       [0.12173435],\n",
              "       [0.12403217],\n",
              "       [0.12308307],\n",
              "       [0.10807233],\n",
              "       [0.09918078],\n",
              "       [0.102103  ],\n",
              "       [0.0985314 ],\n",
              "       [0.09635846],\n",
              "       [0.09131325],\n",
              "       [0.1014786 ],\n",
              "       [0.09815675],\n",
              "       [0.10030471],\n",
              "       [0.09970528],\n",
              "       [0.10132874],\n",
              "       [0.10017983],\n",
              "       [0.09495979],\n",
              "       [0.10020481],\n",
              "       [0.09483491],\n",
              "       [0.0956841 ],\n",
              "       [0.09438533],\n",
              "       [0.09585893],\n",
              "       [0.09246216],\n",
              "       [0.09608372],\n",
              "       [0.09828163],\n",
              "       [0.09945552],\n",
              "       [0.09998002],\n",
              "       [0.1050502 ],\n",
              "       [0.10822219],\n",
              "       [0.10952096],\n",
              "       [0.11081972],\n",
              "       [0.11316749],\n",
              "       [0.1114691 ],\n",
              "       [0.11129427],\n",
              "       [0.11583995],\n",
              "       [0.11746341],\n",
              "       [0.1192617 ],\n",
              "       [0.11201858],\n",
              "       [0.1093711 ],\n",
              "       [0.10744792],\n",
              "       [0.11074479],\n",
              "       [0.12845297],\n",
              "       [0.12453169],\n",
              "       [0.12657975],\n",
              "       [0.13262401],\n",
              "       [0.13579599],\n",
              "       [0.13824366],\n",
              "       [0.12390729],\n",
              "       [0.12930216],\n",
              "       [0.13522154],\n",
              "       [0.13959239],\n",
              "       [0.13796893],\n",
              "       [0.13025126],\n",
              "       [0.12935212],\n",
              "       [0.1286278 ],\n",
              "       [0.13504671],\n",
              "       [0.13554623],\n",
              "       [0.13377292],\n",
              "       [0.13524652],\n",
              "       [0.1392677 ],\n",
              "       [0.14286428],\n",
              "       [0.14396323],\n",
              "       [0.14558669],\n",
              "       [0.14571157],\n",
              "       [0.14079125],\n",
              "       [0.14036665],\n",
              "       [0.13874319],\n",
              "       [0.13217443],\n",
              "       [0.13934262],\n",
              "       [0.13774414],\n",
              "       [0.13472201],\n",
              "       [0.13130026],\n",
              "       [0.13529647],\n",
              "       [0.13227434],\n",
              "       [0.1324242 ],\n",
              "       [0.12578051],\n",
              "       [0.11908687],\n",
              "       [0.11534043],\n",
              "       [0.11199361],\n",
              "       [0.11846246],\n",
              "       [0.12118487],\n",
              "       [0.11881213],\n",
              "       [0.12091014],\n",
              "       [0.12013587],\n",
              "       [0.12180928],\n",
              "       [0.11931165],\n",
              "       [0.12408212],\n",
              "       [0.12385734],\n",
              "       [0.12520605],\n",
              "       [0.12535591],\n",
              "       [0.12697937],\n",
              "       [0.12560567],\n",
              "       [0.12807833],\n",
              "       [0.13529647],\n",
              "       [0.13677007],\n",
              "       [0.13499675],\n",
              "       [0.12555572],\n",
              "       [0.12623008],\n",
              "       [0.12603027],\n",
              "       [0.12835306],\n",
              "       [0.1266297 ],\n",
              "       [0.12912733],\n",
              "       [0.14321395],\n",
              "       [0.15238024],\n",
              "       [0.15817473],\n",
              "       [0.15280484],\n",
              "       [0.15585194],\n",
              "       [0.16681652],\n",
              "       [0.17118737],\n",
              "       [0.17258604],\n",
              "       [0.17615765],\n",
              "       [0.1752585 ],\n",
              "       [0.17223638],\n",
              "       [0.17048804],\n",
              "       [0.16391928],\n",
              "       [0.15827464],\n",
              "       [0.16331985],\n",
              "       [0.1609471 ],\n",
              "       [0.1605225 ],\n",
              "       [0.16841501],\n",
              "       [0.17296069],\n",
              "       [0.17298566],\n",
              "       [0.17078775],\n",
              "       [0.16824017],\n",
              "       [0.15927369],\n",
              "       [0.16519307],\n",
              "       [0.16319496],\n",
              "       [0.16007293],\n",
              "       [0.15967331],\n",
              "       [0.15809981],\n",
              "       [0.15887407],\n",
              "       [0.15899895],\n",
              "       [0.16724112],\n",
              "       [0.16481842],\n",
              "       [0.16624207],\n",
              "       [0.16611719],\n",
              "       [0.17048804],\n",
              "       [0.17660722],\n",
              "       [0.17191168],\n",
              "       [0.17143713],\n",
              "       [0.17308557],\n",
              "       [0.17308557],\n",
              "       [0.1619961 ],\n",
              "       [0.16207103],\n",
              "       [0.16326989],\n",
              "       [0.15864928],\n",
              "       [0.16621709],\n",
              "       [0.16614216],\n",
              "       [0.16814027],\n",
              "       [0.17306059],\n",
              "       [0.17143713],\n",
              "       [0.17138718],\n",
              "       [0.17128728],\n",
              "       [0.17375993],\n",
              "       [0.17828063],\n",
              "       [0.17603277],\n",
              "       [0.18330086],\n",
              "       [0.18370048],\n",
              "       [0.18170238],\n",
              "       [0.17805585],\n",
              "       [0.17815575],\n",
              "       [0.17111244],\n",
              "       [0.16334482],\n",
              "       [0.16434387],\n",
              "       [0.1554773 ],\n",
              "       [0.15300465],\n",
              "       [0.15415355],\n",
              "       [0.15502772],\n",
              "       [0.136845  ],\n",
              "       [0.12682951],\n",
              "       [0.14316399],\n",
              "       [0.13444728],\n",
              "       [0.12348269],\n",
              "       [0.1266297 ],\n",
              "       [0.14236475],\n",
              "       [0.14643589],\n",
              "       [0.1540037 ],\n",
              "       [0.16804036],\n",
              "       [0.16664169],\n",
              "       [0.16519307],\n",
              "       [0.16324492],\n",
              "       [0.16681652],\n",
              "       [0.17430941],\n",
              "       [0.18297617],\n",
              "       [0.18152755],\n",
              "       [0.18085319],\n",
              "       [0.17306059],\n",
              "       [0.17608272],\n",
              "       [0.17760627],\n",
              "       [0.17723163],\n",
              "       [0.17313552],\n",
              "       [0.17790599],\n",
              "       [0.18549878],\n",
              "       [0.18984465],\n",
              "       [0.1854738 ],\n",
              "       [0.18165243],\n",
              "       [0.18217693],\n",
              "       [0.18060343],\n",
              "       [0.17380988],\n",
              "       [0.17366002],\n",
              "       [0.16374444],\n",
              "       [0.15770018],\n",
              "       [0.14793446],\n",
              "       [0.16749088],\n",
              "       [0.15642639],\n",
              "       [0.15178081],\n",
              "       [0.15502772],\n",
              "       [0.15228033],\n",
              "       [0.15655128],\n",
              "       [0.16459364],\n",
              "       [0.16756581],\n",
              "       [0.1565263 ],\n",
              "       [0.16069734],\n",
              "       [0.16868974],\n",
              "       [0.16666667],\n",
              "       [0.17091263],\n",
              "       [0.17238623],\n",
              "       [0.17510865],\n",
              "       [0.1811529 ],\n",
              "       [0.18015385],\n",
              "       [0.16756581],\n",
              "       [0.14988261],\n",
              "       [0.14868375],\n",
              "       [0.14293921],\n",
              "       [0.14471252],\n",
              "       [0.14613617],\n",
              "       [0.14139068],\n",
              "       [0.1487337 ],\n",
              "       [0.15832459],\n",
              "       [0.17698187],\n",
              "       [0.17778111],\n",
              "       [0.19511464],\n",
              "       [0.19843649],\n",
              "       [0.20065937],\n",
              "       [0.20393127],\n",
              "       [0.21062491],\n",
              "       [0.20700335],\n",
              "       [0.20590439],\n",
              "       [0.20163345],\n",
              "       [0.20597932],\n",
              "       [0.20300714],\n",
              "       [0.20130876],\n",
              "       [0.20460562],\n",
              "       [0.20343174],\n",
              "       [0.20642889],\n",
              "       [0.20590439],\n",
              "       [0.20697837],\n",
              "       [0.20527998],\n",
              "       [0.20428093],\n",
              "       [0.20270743],\n",
              "       [0.21112443],\n",
              "       [0.21509566],\n",
              "       [0.21879215],\n",
              "       [0.22046556],\n",
              "       [0.21916679],\n",
              "       [0.21477097],\n",
              "       [0.21359708],\n",
              "       [0.21621959],\n",
              "       [0.21227334],\n",
              "       [0.2125231 ],\n",
              "       [0.20762775],\n",
              "       [0.20737799],\n",
              "       [0.19976023],\n",
              "       [0.20178331],\n",
              "       [0.19918577],\n",
              "       [0.19783705],\n",
              "       [0.19096858],\n",
              "       [0.19661322],\n",
              "       [0.19593886],\n",
              "       [0.19928568],\n",
              "       [0.1983116 ],\n",
              "       [0.20348169],\n",
              "       [0.19533943],\n",
              "       [0.19903592],\n",
              "       [0.20545482],\n",
              "       [0.21197363],\n",
              "       [0.21139917],\n",
              "       [0.20523003],\n",
              "       [0.21309756],\n",
              "       [0.21384685],\n",
              "       [0.21279784],\n",
              "       [0.21414656],\n",
              "       [0.21152405],\n",
              "       [0.21522054],\n",
              "       [0.21412158],\n",
              "       [0.21454618],\n",
              "       [0.21801788],\n",
              "       [0.22256356],\n",
              "       [0.22104001],\n",
              "       [0.21297268],\n",
              "       [0.21030021],\n",
              "       [0.21124931],\n",
              "       [0.23924771],\n",
              "       [0.25395874],\n",
              "       [0.25545732],\n",
              "       [0.25815475],\n",
              "       [0.2532594 ],\n",
              "       [0.25360907],\n",
              "       [0.2576802 ],\n",
              "       [0.25430841],\n",
              "       [0.25765523],\n",
              "       [0.25985314],\n",
              "       [0.26107698],\n",
              "       [0.26876967],\n",
              "       [0.27940956],\n",
              "       [0.27411459],\n",
              "       [0.27306559],\n",
              "       [0.27309056],\n",
              "       [0.27418952],\n",
              "       [0.27586293],\n",
              "       [0.28030871],\n",
              "       [0.28470453],\n",
              "       [0.29289675],\n",
              "       [0.29801688],\n",
              "       [0.30451071],\n",
              "       [0.30633398],\n",
              "       [0.30261252],\n",
              "       [0.29319646],\n",
              "       [0.28870073],\n",
              "       [0.28128278],\n",
              "       [0.29506968],\n",
              "       [0.28812628],\n",
              "       [0.30146361],\n",
              "       [0.29504471],\n",
              "       [0.28015885],\n",
              "       [0.28105799],\n",
              "       [0.28138269],\n",
              "       [0.28552875],\n",
              "       [0.27960937],\n",
              "       [0.28742694],\n",
              "       [0.29092362],\n",
              "       [0.28650282],\n",
              "       [0.29781707],\n",
              "       [0.2997902 ],\n",
              "       [0.30358659],\n",
              "       [0.3086318 ],\n",
              "       [0.31560018],\n",
              "       [0.30540986],\n",
              "       [0.29616864],\n",
              "       [0.29486987],\n",
              "       [0.30261252],\n",
              "       [0.27636246],\n",
              "       [0.27159199],\n",
              "       [0.29072381],\n",
              "       [0.27886008],\n",
              "       [0.29082372],\n",
              "       [0.288426  ],\n",
              "       [0.27551326],\n",
              "       [0.28373046],\n",
              "       [0.28707728],\n",
              "       [0.29227234],\n",
              "       [0.27319047],\n",
              "       [0.28495429],\n",
              "       [0.2762126 ],\n",
              "       [0.26607223],\n",
              "       [0.26871972],\n",
              "       [0.28260652],\n",
              "       [0.29099855],\n",
              "       [0.25418353],\n",
              "       [0.2394725 ],\n",
              "       [0.24491733],\n",
              "       [0.26035266],\n",
              "       [0.25670613],\n",
              "       [0.24666567],\n",
              "       [0.22094011],\n",
              "       [0.21609471],\n",
              "       [0.20253259],\n",
              "       [0.21404666],\n",
              "       [0.21934163],\n",
              "       [0.20018482],\n",
              "       [0.17800589],\n",
              "       [0.17750637],\n",
              "       [0.16629202],\n",
              "       [0.17211149],\n",
              "       [0.1711624 ],\n",
              "       [0.1878965 ],\n",
              "       [0.1844248 ],\n",
              "       [0.1820021 ],\n",
              "       [0.19758729],\n",
              "       [0.17728158],\n",
              "       [0.17236126],\n",
              "       [0.15680104],\n",
              "       [0.15957341],\n",
              "       [0.15715071],\n",
              "       [0.15832459],\n",
              "       [0.1629452 ],\n",
              "       [0.14928318],\n",
              "       [0.14543684],\n",
              "       [0.15075678],\n",
              "       [0.13781907],\n",
              "       [0.12767871],\n",
              "       [0.11244318],\n",
              "       [0.10270243],\n",
              "       [0.1285279 ],\n",
              "       [0.12598032],\n",
              "       [0.12618013],\n",
              "       [0.12995155],\n",
              "       [0.13040112],\n",
              "       [0.09111344],\n",
              "       [0.10627404],\n",
              "       [0.10544982],\n",
              "       [0.11249313],\n",
              "       [0.11888706],\n",
              "       [0.12011089],\n",
              "       [0.11633948],\n",
              "       [0.11061991],\n",
              "       [0.11828763],\n",
              "       [0.12295819],\n",
              "       [0.12525601],\n",
              "       [0.12765373],\n",
              "       [0.11886208],\n",
              "       [0.12041061],\n",
              "       [0.1173635 ],\n",
              "       [0.1300015 ],\n",
              "       [0.12635496],\n",
              "       [0.12230881],\n",
              "       [0.14870873],\n",
              "       [0.1516809 ],\n",
              "       [0.15188071],\n",
              "       [0.16369449],\n",
              "       [0.17101254],\n",
              "       [0.1711624 ],\n",
              "       [0.16292023],\n",
              "       [0.16159648],\n",
              "       [0.15914881],\n",
              "       [0.16279534],\n",
              "       [0.16102203],\n",
              "       [0.16257056],\n",
              "       [0.16162146],\n",
              "       [0.16289525],\n",
              "       [0.16564264],\n",
              "       [0.16321994],\n",
              "       [0.16799041],\n",
              "       [0.17113742],\n",
              "       [0.17138718],\n",
              "       [0.1727359 ],\n",
              "       [0.16843998],\n",
              "       [0.17298566],\n",
              "       [0.17518358],\n",
              "       [0.17438433],\n",
              "       [0.17186173],\n",
              "       [0.16681652],\n",
              "       [0.16784055],\n",
              "       [0.18280134],\n",
              "       [0.18782157],\n",
              "       [0.18981967],\n",
              "       [0.19486488],\n",
              "       [0.20083421],\n",
              "       [0.2055797 ],\n",
              "       [0.20185823],\n",
              "       [0.20592937],\n",
              "       [0.22323792],\n",
              "       [0.21314751],\n",
              "       [0.20737799],\n",
              "       [0.20250762],\n",
              "       [0.20670363],\n",
              "       [0.20732804],\n",
              "       [0.21040012],\n",
              "       [0.21362206],\n",
              "       [0.22056546],\n",
              "       [0.22388731],\n",
              "       [0.2247365 ],\n",
              "       [0.22800839],\n",
              "       [0.23575104],\n",
              "       [0.23425246],\n",
              "       [0.2370498 ],\n",
              "       [0.23287877],\n",
              "       [0.23267895],\n",
              "       [0.2335781 ],\n",
              "       [0.23362805],\n",
              "       [0.24331885],\n",
              "       [0.24514211],\n",
              "       [0.24681553],\n",
              "       [0.25418353],\n",
              "       [0.25338428],\n",
              "       [0.24868875],\n",
              "       [0.24624107],\n",
              "       [0.24701534],\n",
              "       [0.23717468],\n",
              "       [0.26177631],\n",
              "       [0.25835456],\n",
              "       [0.26484839],\n",
              "       [0.25668115],\n",
              "       [0.24264449],\n",
              "       [0.24274439],\n",
              "       [0.23729957],\n",
              "       [0.22845796],\n",
              "       [0.19983516],\n",
              "       [0.20717818],\n",
              "       [0.21282282],\n",
              "       [0.21072481],\n",
              "       [0.20802737],\n",
              "       [0.1932664 ],\n",
              "       [0.20203307],\n",
              "       [0.19249213],\n",
              "       [0.18469954],\n",
              "       [0.18297617],\n",
              "       [0.18112793],\n",
              "       [0.17900495],\n",
              "       [0.18130276],\n",
              "       [0.17323543],\n",
              "       [0.16881463],\n",
              "       [0.18464958],\n",
              "       [0.1918927 ],\n",
              "       [0.19858634],\n",
              "       [0.21089965],\n",
              "       [0.21696888],\n",
              "       [0.22253859],\n",
              "       [0.22099006],\n",
              "       [0.22089015],\n",
              "       [0.2173685 ],\n",
              "       [0.22024077],\n",
              "       [0.23162995],\n",
              "       [0.23018133],\n",
              "       [0.23415256],\n",
              "       [0.23245417],\n",
              "       [0.23195464],\n",
              "       [0.22443679],\n",
              "       [0.23500175],\n",
              "       [0.23485189],\n",
              "       [0.23030621],\n",
              "       [0.2393726 ],\n",
              "       [0.2423198 ],\n",
              "       [0.24651581],\n",
              "       [0.24606624],\n",
              "       [0.23555123],\n",
              "       [0.23859833],\n",
              "       [0.24356861],\n",
              "       [0.23987212],\n",
              "       [0.24374344],\n",
              "       [0.24851391],\n",
              "       [0.2467406 ],\n",
              "       [0.24386833],\n",
              "       [0.24963784],\n",
              "       [0.24197013],\n",
              "       [0.25353414],\n",
              "       [0.2575803 ],\n",
              "       [0.2571557 ],\n",
              "       [0.25303462],\n",
              "       [0.25483291],\n",
              "       [0.25967831],\n",
              "       [0.25743044],\n",
              "       [0.26807033],\n",
              "       [0.25655627],\n",
              "       [0.24554174],\n",
              "       [0.21886708],\n",
              "       [0.22800839],\n",
              "       [0.23310355],\n",
              "       [0.24406814],\n",
              "       [0.23797392],\n",
              "       [0.23670013],\n",
              "       [0.25790499],\n",
              "       [0.24236975],\n",
              "       [0.23984715],\n",
              "       [0.25173585],\n",
              "       [0.26135172],\n",
              "       [0.26137669],\n",
              "       [0.26707128],\n",
              "       [0.26662171],\n",
              "       [0.24209501],\n",
              "       [0.25171087],\n",
              "       [0.2458914 ],\n",
              "       [0.24931315],\n",
              "       [0.2580049 ],\n",
              "       [0.25733054],\n",
              "       [0.24973775],\n",
              "       [0.25845447],\n",
              "       [0.26866976],\n",
              "       [0.26861981],\n",
              "       [0.27089265],\n",
              "       [0.27721165],\n",
              "       [0.2944203 ],\n",
              "       [0.29317149],\n",
              "       [0.28233178],\n",
              "       [0.28520406],\n",
              "       [0.28720216],\n",
              "       [0.29237225],\n",
              "       [0.28785154],\n",
              "       [0.27978421],\n",
              "       [0.28225686],\n",
              "       [0.27965932],\n",
              "       [0.28802637],\n",
              "       [0.28517908],\n",
              "       [0.28250662],\n",
              "       [0.2953694 ],\n",
              "       [0.29691793],\n",
              "       [0.28285629],\n",
              "       [0.28750187],\n",
              "       [0.30296219],\n",
              "       [0.30308707],\n",
              "       [0.29644338],\n",
              "       [0.30301214],\n",
              "       [0.31065488],\n",
              "       [0.32594036],\n",
              "       [0.32509116],\n",
              "       [0.32371747],\n",
              "       [0.32134472],\n",
              "       [0.32361756],\n",
              "       [0.32643988],\n",
              "       [0.33668015],\n",
              "       [0.33530646],\n",
              "       [0.34334882],\n",
              "       [0.34434787],\n",
              "       [0.35184075],\n",
              "       [0.35800989],\n",
              "       [0.34362356],\n",
              "       [0.34354863],\n",
              "       [0.35728558],\n",
              "       [0.37491883],\n",
              "       [0.37911484],\n",
              "       [0.37819072],\n",
              "       [0.37846546],\n",
              "       [0.38393526],\n",
              "       [0.38570858],\n",
              "       [0.39085369],\n",
              "       [0.39025426],\n",
              "       [0.3965233 ],\n",
              "       [0.39195264],\n",
              "       [0.39974524],\n",
              "       [0.40309206],\n",
              "       [0.40106898],\n",
              "       [0.39332634],\n",
              "       [0.39037914],\n",
              "       [0.38980469],\n",
              "       [0.40126879],\n",
              "       [0.39607373],\n",
              "       [0.40494031],\n",
              "       [0.40346671],\n",
              "       [0.39574904],\n",
              "       [0.38398521],\n",
              "       [0.38970478],\n",
              "       [0.39929567],\n",
              "       [0.4121085 ],\n",
              "       [0.40264249],\n",
              "       [0.40653879],\n",
              "       [0.41225835],\n",
              "       [0.41398172],\n",
              "       [0.42319796],\n",
              "       [0.43496179],\n",
              "       [0.43633548],\n",
              "       [0.43466207],\n",
              "       [0.43536141],\n",
              "       [0.43391278],\n",
              "       [0.44530196],\n",
              "       [0.44597632],\n",
              "       [0.46006294],\n",
              "       [0.4597882 ],\n",
              "       [0.46408412],\n",
              "       [0.46940407],\n",
              "       [0.48613817],\n",
              "       [0.4788451 ],\n",
              "       [0.48476447],\n",
              "       [0.48124282],\n",
              "       [0.49323143],\n",
              "       [0.50931615],\n",
              "       [0.51106449],\n",
              "       [0.52762376],\n",
              "       [0.51693391],\n",
              "       [0.51358709],\n",
              "       [0.52332784],\n",
              "       [0.53204456],\n",
              "       [0.52664968],\n",
              "       [0.529472  ],\n",
              "       [0.53329337],\n",
              "       [0.53099555],\n",
              "       [0.50761776],\n",
              "       [0.52944703],\n",
              "       [0.54605625],\n",
              "       [0.54488236],\n",
              "       [0.50901643],\n",
              "       [0.50689345],\n",
              "       [0.53234427],\n",
              "       [0.5388381 ],\n",
              "       [0.54822918],\n",
              "       [0.53529147]])"
            ]
          },
          "metadata": {},
          "execution_count": 21
        }
      ]
    },
    {
      "cell_type": "code",
      "metadata": {
        "id": "6N6jlFiTkDkq"
      },
      "source": [
        "import numpy\n",
        "# convert an array of values into a dataset matrix\n",
        "def create_dataset(dataset, time_step=1):\n",
        "\tdataX, dataY = [], []\n",
        "\tfor i in range(len(dataset)-time_step-1):\n",
        "\t\ta = dataset[i:(i+time_step), 0]   ###i=0, 0,1,2,3-----99   100 \n",
        "\t\tdataX.append(a)\n",
        "\t\tdataY.append(dataset[i + time_step, 0])\n",
        "\treturn numpy.array(dataX), numpy.array(dataY)"
      ],
      "execution_count": null,
      "outputs": []
    },
    {
      "cell_type": "code",
      "metadata": {
        "id": "EO8cx_flkDkr"
      },
      "source": [
        "# reshape into X=t,t+1,t+2,t+3 and Y=t+4\n",
        "time_step = 100\n",
        "X_train, y_train = create_dataset(train_data, time_step)\n",
        "X_test, ytest = create_dataset(test_data, time_step)"
      ],
      "execution_count": null,
      "outputs": []
    },
    {
      "cell_type": "code",
      "metadata": {
        "colab": {
          "base_uri": "https://localhost:8080/"
        },
        "id": "OuKGzjsZkDks",
        "outputId": "3f2b5af9-927d-4594-fafb-837fa4e10b76"
      },
      "source": [
        "print(X_train.shape), print(y_train.shape)"
      ],
      "execution_count": null,
      "outputs": [
        {
          "output_type": "stream",
          "name": "stdout",
          "text": [
            "(716, 100)\n",
            "(716,)\n"
          ]
        },
        {
          "output_type": "execute_result",
          "data": {
            "text/plain": [
              "(None, None)"
            ]
          },
          "metadata": {},
          "execution_count": 24
        }
      ]
    },
    {
      "cell_type": "code",
      "metadata": {
        "colab": {
          "base_uri": "https://localhost:8080/"
        },
        "id": "rPWXmVtGkDkt",
        "outputId": "74f1def6-7ae1-4037-d8c9-f64da549e8ae"
      },
      "source": [
        "print(X_test.shape), print(ytest.shape)"
      ],
      "execution_count": null,
      "outputs": [
        {
          "output_type": "stream",
          "name": "stdout",
          "text": [
            "(340, 100)\n",
            "(340,)\n"
          ]
        },
        {
          "output_type": "execute_result",
          "data": {
            "text/plain": [
              "(None, None)"
            ]
          },
          "metadata": {},
          "execution_count": 25
        }
      ]
    },
    {
      "cell_type": "code",
      "metadata": {
        "id": "UGRGfOzckDkw"
      },
      "source": [
        "# reshape input to be [samples, time steps, features] which is required for LSTM\n",
        "X_train =X_train.reshape(X_train.shape[0],X_train.shape[1] , 1)\n",
        "X_test = X_test.reshape(X_test.shape[0],X_test.shape[1] , 1)"
      ],
      "execution_count": null,
      "outputs": []
    },
    {
      "cell_type": "code",
      "metadata": {
        "id": "6QSxMZNEkDkx"
      },
      "source": [
        "### Create the Stacked LSTM model\n",
        "from tensorflow.keras.models import Sequential\n",
        "from tensorflow.keras.layers import Dense\n",
        "from tensorflow.keras.layers import LSTM"
      ],
      "execution_count": null,
      "outputs": []
    },
    {
      "cell_type": "code",
      "metadata": {
        "id": "u6O2hHNXkDkz"
      },
      "source": [
        "model=Sequential()\n",
        "model.add(LSTM(50,return_sequences=True,input_shape=(100,1)))\n",
        "model.add(LSTM(50,return_sequences=True))\n",
        "model.add(LSTM(50))\n",
        "model.add(Dense(1))\n",
        "model.compile(loss='mean_squared_error',optimizer='adam')\n"
      ],
      "execution_count": null,
      "outputs": []
    },
    {
      "cell_type": "code",
      "metadata": {
        "colab": {
          "base_uri": "https://localhost:8080/"
        },
        "id": "cE28n2VpkDkz",
        "outputId": "d2bb3730-f454-4241-adb1-6fb63ea6d41b"
      },
      "source": [
        "model.summary()"
      ],
      "execution_count": null,
      "outputs": [
        {
          "output_type": "stream",
          "name": "stdout",
          "text": [
            "Model: \"sequential\"\n",
            "_________________________________________________________________\n",
            "Layer (type)                 Output Shape              Param #   \n",
            "=================================================================\n",
            "lstm (LSTM)                  (None, 100, 50)           10400     \n",
            "_________________________________________________________________\n",
            "lstm_1 (LSTM)                (None, 100, 50)           20200     \n",
            "_________________________________________________________________\n",
            "lstm_2 (LSTM)                (None, 50)                20200     \n",
            "_________________________________________________________________\n",
            "dense (Dense)                (None, 1)                 51        \n",
            "=================================================================\n",
            "Total params: 50,851\n",
            "Trainable params: 50,851\n",
            "Non-trainable params: 0\n",
            "_________________________________________________________________\n"
          ]
        }
      ]
    },
    {
      "cell_type": "code",
      "metadata": {
        "colab": {
          "base_uri": "https://localhost:8080/"
        },
        "id": "wdKoZ0yRkDk1",
        "outputId": "5152b7c9-434b-4cc9-a57b-9f9c2bd78d2a"
      },
      "source": [
        "model.summary()"
      ],
      "execution_count": null,
      "outputs": [
        {
          "output_type": "stream",
          "name": "stdout",
          "text": [
            "Model: \"sequential\"\n",
            "_________________________________________________________________\n",
            "Layer (type)                 Output Shape              Param #   \n",
            "=================================================================\n",
            "lstm (LSTM)                  (None, 100, 50)           10400     \n",
            "_________________________________________________________________\n",
            "lstm_1 (LSTM)                (None, 100, 50)           20200     \n",
            "_________________________________________________________________\n",
            "lstm_2 (LSTM)                (None, 50)                20200     \n",
            "_________________________________________________________________\n",
            "dense (Dense)                (None, 1)                 51        \n",
            "=================================================================\n",
            "Total params: 50,851\n",
            "Trainable params: 50,851\n",
            "Non-trainable params: 0\n",
            "_________________________________________________________________\n"
          ]
        }
      ]
    },
    {
      "cell_type": "code",
      "metadata": {
        "id": "QEntPblXkDk2"
      },
      "source": [
        ""
      ],
      "execution_count": null,
      "outputs": []
    },
    {
      "cell_type": "code",
      "metadata": {
        "colab": {
          "base_uri": "https://localhost:8080/"
        },
        "id": "YejtgXRgkDk3",
        "outputId": "ba95292b-35b9-433c-d672-9390b9bd78fb"
      },
      "source": [
        "model.fit(X_train,y_train,validation_data=(X_test,ytest),epochs=10,batch_size=64,verbose=1)"
      ],
      "execution_count": null,
      "outputs": [
        {
          "output_type": "stream",
          "name": "stdout",
          "text": [
            "Epoch 1/10\n",
            "12/12 [==============================] - 2s 194ms/step - loss: 4.9674e-04 - val_loss: 0.0223\n",
            "Epoch 2/10\n",
            "12/12 [==============================] - 2s 194ms/step - loss: 4.8959e-04 - val_loss: 0.0214\n",
            "Epoch 3/10\n",
            "12/12 [==============================] - 2s 199ms/step - loss: 4.8160e-04 - val_loss: 0.0211\n",
            "Epoch 4/10\n",
            "12/12 [==============================] - 2s 194ms/step - loss: 4.7151e-04 - val_loss: 0.0218\n",
            "Epoch 5/10\n",
            "12/12 [==============================] - 2s 193ms/step - loss: 4.5016e-04 - val_loss: 0.0220\n",
            "Epoch 6/10\n",
            "12/12 [==============================] - 2s 195ms/step - loss: 4.4341e-04 - val_loss: 0.0225\n",
            "Epoch 7/10\n",
            "12/12 [==============================] - 2s 194ms/step - loss: 4.3991e-04 - val_loss: 0.0205\n",
            "Epoch 8/10\n",
            "12/12 [==============================] - 2s 193ms/step - loss: 4.0156e-04 - val_loss: 0.0192\n",
            "Epoch 9/10\n",
            "12/12 [==============================] - 2s 195ms/step - loss: 3.9260e-04 - val_loss: 0.0209\n",
            "Epoch 10/10\n",
            "12/12 [==============================] - 2s 192ms/step - loss: 3.8584e-04 - val_loss: 0.0194\n"
          ]
        },
        {
          "output_type": "execute_result",
          "data": {
            "text/plain": [
              "<keras.callbacks.History at 0x7f451057df90>"
            ]
          },
          "metadata": {},
          "execution_count": 33
        }
      ]
    },
    {
      "cell_type": "code",
      "metadata": {
        "id": "_Tcp3S4okDk4"
      },
      "source": [
        "import tensorflow as tf"
      ],
      "execution_count": null,
      "outputs": []
    },
    {
      "cell_type": "code",
      "metadata": {
        "colab": {
          "base_uri": "https://localhost:8080/",
          "height": 35
        },
        "id": "gv6W1GKnkDk4",
        "outputId": "961e26d6-4101-4f11-f06b-9f07aad904e1"
      },
      "source": [
        "tf.__version__"
      ],
      "execution_count": null,
      "outputs": [
        {
          "output_type": "execute_result",
          "data": {
            "application/vnd.google.colaboratory.intrinsic+json": {
              "type": "string"
            },
            "text/plain": [
              "'2.6.0'"
            ]
          },
          "metadata": {},
          "execution_count": 35
        }
      ]
    },
    {
      "cell_type": "code",
      "metadata": {
        "id": "CNN49yM_kDk6"
      },
      "source": [
        "### Lets Do the prediction and check performance metrics\n",
        "train_predict=model.predict(X_train)\n",
        "test_predict=model.predict(X_test)"
      ],
      "execution_count": null,
      "outputs": []
    },
    {
      "cell_type": "code",
      "metadata": {
        "id": "pvWqaILTkDk8"
      },
      "source": [
        "##Transformback to original form\n",
        "train_predict=scaler.inverse_transform(train_predict)\n",
        "test_predict=scaler.inverse_transform(test_predict)"
      ],
      "execution_count": null,
      "outputs": []
    },
    {
      "cell_type": "code",
      "metadata": {
        "colab": {
          "base_uri": "https://localhost:8080/"
        },
        "id": "OTyiQ39pkDk8",
        "outputId": "983f5e27-a22c-40e7-bd1e-96079677271e"
      },
      "source": [
        "### Calculate RMSE performance metrics\n",
        "import math\n",
        "from sklearn.metrics import mean_squared_error\n",
        "math.sqrt(mean_squared_error(y_train,train_predict))"
      ],
      "execution_count": null,
      "outputs": [
        {
          "output_type": "execute_result",
          "data": {
            "text/plain": [
              "196.1440255783044"
            ]
          },
          "metadata": {},
          "execution_count": 38
        }
      ]
    },
    {
      "cell_type": "code",
      "metadata": {
        "colab": {
          "base_uri": "https://localhost:8080/"
        },
        "id": "dtwQsgOXkDk9",
        "outputId": "afd3966b-e470-4b7d-cd67-5cb3c5cf9ef9"
      },
      "source": [
        "### Test Data RMSE\n",
        "math.sqrt(mean_squared_error(ytest,test_predict))"
      ],
      "execution_count": null,
      "outputs": [
        {
          "output_type": "execute_result",
          "data": {
            "text/plain": [
              "208.1709489305459"
            ]
          },
          "metadata": {},
          "execution_count": 39
        }
      ]
    },
    {
      "cell_type": "code",
      "metadata": {
        "colab": {
          "base_uri": "https://localhost:8080/",
          "height": 265
        },
        "id": "qVzgw3m4kDk-",
        "outputId": "8bea6063-4ff9-466e-c17c-200621e774ed"
      },
      "source": [
        "### Plotting \n",
        "# shift train predictions for plotting\n",
        "look_back=100\n",
        "trainPredictPlot = numpy.empty_like(df1)\n",
        "trainPredictPlot[:, :] = np.nan\n",
        "trainPredictPlot[look_back:len(train_predict)+look_back, :] = train_predict\n",
        "# shift test predictions for plotting\n",
        "testPredictPlot = numpy.empty_like(df1)\n",
        "testPredictPlot[:, :] = numpy.nan\n",
        "testPredictPlot[len(train_predict)+(look_back*2)+1:len(df1)-1, :] = test_predict\n",
        "# plot baseline and predictions\n",
        "plt.plot(scaler.inverse_transform(df1))\n",
        "plt.plot(trainPredictPlot)\n",
        "plt.plot(testPredictPlot)\n",
        "plt.show()"
      ],
      "execution_count": null,
      "outputs": [
        {
          "output_type": "display_data",
          "data": {
            "image/png": "[encoded data removed]",
            "text/plain": [
              "<Figure size 432x288 with 1 Axes>"
            ]
          },
          "metadata": {
            "needs_background": "light"
          }
        }
      ]
    },
    {
      "cell_type": "code",
      "metadata": {
        "colab": {
          "base_uri": "https://localhost:8080/"
        },
        "id": "z50pAB_7kDk_",
        "outputId": "225b3edd-92c3-4982-d1d0-34cb809a578a"
      },
      "source": [
        "len(test_data)"
      ],
      "execution_count": null,
      "outputs": [
        {
          "output_type": "execute_result",
          "data": {
            "text/plain": [
              "441"
            ]
          },
          "metadata": {},
          "execution_count": 41
        }
      ]
    },
    {
      "cell_type": "code",
      "metadata": {
        "colab": {
          "base_uri": "https://localhost:8080/"
        },
        "id": "CYIrwafGkDlA",
        "outputId": "5306565f-2570-407a-f203-0803f6eb574e"
      },
      "source": [
        "x_input=test_data[341:].reshape(1,-1)\n",
        "x_input.shape\n"
      ],
      "execution_count": null,
      "outputs": [
        {
          "output_type": "execute_result",
          "data": {
            "text/plain": [
              "(1, 100)"
            ]
          },
          "metadata": {},
          "execution_count": 42
        }
      ]
    },
    {
      "cell_type": "code",
      "metadata": {
        "id": "S-j99bNYkDlC"
      },
      "source": [
        ""
      ],
      "execution_count": null,
      "outputs": []
    },
    {
      "cell_type": "code",
      "metadata": {
        "id": "I-L4_YTIkDlD"
      },
      "source": [
        ""
      ],
      "execution_count": null,
      "outputs": []
    },
    {
      "cell_type": "code",
      "metadata": {
        "id": "Oonjb9EEkDlD"
      },
      "source": [
        "temp_input=list(x_input)\n",
        "temp_input=temp_input[0].tolist()"
      ],
      "execution_count": null,
      "outputs": []
    },
    {
      "cell_type": "code",
      "metadata": {
        "colab": {
          "base_uri": "https://localhost:8080/"
        },
        "id": "RqkuN2XukDlE",
        "outputId": "64c97091-4f13-4497-eb07-925cc2628b3e"
      },
      "source": [
        "temp_input"
      ],
      "execution_count": null,
      "outputs": [
        {
          "output_type": "execute_result",
          "data": {
            "text/plain": [
              "[0.0651381187871522,\n",
              " 0.06181627453918781,\n",
              " 0.06641190868674762,\n",
              " 0.07060792247365,\n",
              " 0.06990858684249962,\n",
              " 0.06918427493880813,\n",
              " 0.06843498676257559,\n",
              " 0.07260602427693691,\n",
              " 0.07647734652080529,\n",
              " 0.07805085169089365,\n",
              " 0.07882511613966736,\n",
              " 0.08554373345321947,\n",
              " 0.09068884559668317,\n",
              " 0.09705779509466006,\n",
              " 0.09373595084669567,\n",
              " 0.09840651381187876,\n",
              " 0.09688296118687245,\n",
              " 0.09973025625655624,\n",
              " 0.10849692791847748,\n",
              " 0.10682351765822468,\n",
              " 0.1016034766971377,\n",
              " 0.09176282531594981,\n",
              " 0.10100404615615166,\n",
              " 0.09913082571557025,\n",
              " 0.1026275038713223,\n",
              " 0.1070233278385534,\n",
              " 0.1080973075578201,\n",
              " 0.10255257505369902,\n",
              " 0.0980818222688446,\n",
              " 0.09973025625655624,\n",
              " 0.10027973425246023,\n",
              " 0.0994305409860633,\n",
              " 0.10402617513362311,\n",
              " 0.10300214795943852,\n",
              " 0.10327688695739051,\n",
              " 0.10097906988361055,\n",
              " 0.10085418852090516,\n",
              " 0.0996303511663919,\n",
              " 0.10027973425246023,\n",
              " 0.10784754483240916,\n",
              " 0.10837204655577198,\n",
              " 0.1134172536090714,\n",
              " 0.11109446026275038,\n",
              " 0.10152854787951449,\n",
              " 0.10237774114591136,\n",
              " 0.10609920575453319,\n",
              " 0.10989559918077829,\n",
              " 0.10967081272790852,\n",
              " 0.10652380238773168,\n",
              " 0.1044757480393626,\n",
              " 0.10712323292871773,\n",
              " 0.1184125081172886,\n",
              " 0.11519056895948854,\n",
              " 0.11688895549228234,\n",
              " 0.11973625056196613,\n",
              " 0.12135970827713677,\n",
              " 0.12732903741445628,\n",
              " 0.12338278635296474,\n",
              " 0.12078525400869172,\n",
              " 0.10804735501273788,\n",
              " 0.10949597882012091,\n",
              " 0.10592437184674564,\n",
              " 0.10819721264798443,\n",
              " 0.10759778210699833,\n",
              " 0.10077925970328189,\n",
              " 0.09298666267046307,\n",
              " 0.09421050002497627,\n",
              " 0.10025475797991906,\n",
              " 0.10270243268894552,\n",
              " 0.10292721914181524,\n",
              " 0.09905589689794697,\n",
              " 0.09041410659873123,\n",
              " 0.09271192367251113,\n",
              " 0.08939007942454669,\n",
              " 0.09226235076677158,\n",
              " 0.08349567910485034,\n",
              " 0.08841600479544437,\n",
              " 0.090638893051601,\n",
              " 0.09386083220940106,\n",
              " 0.09288675758029874,\n",
              " 0.09266197112742897,\n",
              " 0.08941505569708774,\n",
              " 0.0879164793446226,\n",
              " 0.0950347170188321,\n",
              " 0.09773215445326944,\n",
              " 0.10200309705779514,\n",
              " 0.10752285328937505,\n",
              " 0.10877166691642937,\n",
              " 0.10932114491233325,\n",
              " 0.1073480193815875,\n",
              " 0.10722313801888206,\n",
              " 0.10892152455167592,\n",
              " 0.10774763974224488,\n",
              " 0.11703881312752884,\n",
              " 0.11012038563364807,\n",
              " 0.10802237874019682,\n",
              " 0.11066986362955195,\n",
              " 0.11434137569309161,\n",
              " 0.11301763324841402,\n",
              " 0.11381687396972878]"
            ]
          },
          "metadata": {},
          "execution_count": 44
        }
      ]
    },
    {
      "cell_type": "code",
      "metadata": {
        "colab": {
          "base_uri": "https://localhost:8080/"
        },
        "id": "-lQI9VTVkDlF",
        "outputId": "06d383e5-c564-4ee7-87de-74bba0f70438"
      },
      "source": [
        "# demonstrate prediction for next 10 days\n",
        "from numpy import array\n",
        "\n",
        "lst_output=[]\n",
        "n_steps=100\n",
        "i=0\n",
        "while(i<30):\n",
        "    \n",
        "    if(len(temp_input)>100):\n",
        "        #print(temp_input)\n",
        "        x_input=np.array(temp_input[1:])\n",
        "        print(\"{} day input {}\".format(i,x_input))\n",
        "        x_input=x_input.reshape(1,-1)\n",
        "        x_input = x_input.reshape((1, n_steps, 1))\n",
        "        #print(x_input)\n",
        "        yhat = model.predict(x_input, verbose=0)\n",
        "        print(\"{} day output {}\".format(i,yhat))\n",
        "        temp_input.extend(yhat[0].tolist())\n",
        "        temp_input=temp_input[1:]\n",
        "        #print(temp_input)\n",
        "        lst_output.extend(yhat.tolist())\n",
        "        i=i+1\n",
        "    else:\n",
        "        x_input = x_input.reshape((1, n_steps,1))\n",
        "        yhat = model.predict(x_input, verbose=0)\n",
        "        print(yhat[0])\n",
        "        temp_input.extend(yhat[0].tolist())\n",
        "        print(len(temp_input))\n",
        "        lst_output.extend(yhat.tolist())\n",
        "        i=i+1\n",
        "    \n",
        "\n",
        "print(lst_output)"
      ],
      "execution_count": null,
      "outputs": [
        {
          "output_type": "stream",
          "name": "stdout",
          "text": [
            "[0.11492221]\n",
            "101\n",
            "1 day input [0.06181627 0.06641191 0.07060792 0.06990859 0.06918427 0.06843499\n",
            " 0.07260602 0.07647735 0.07805085 0.07882512 0.08554373 0.09068885\n",
            " 0.0970578  0.09373595 0.09840651 0.09688296 0.09973026 0.10849693\n",
            " 0.10682352 0.10160348 0.09176283 0.10100405 0.09913083 0.1026275\n",
            " 0.10702333 0.10809731 0.10255258 0.09808182 0.09973026 0.10027973\n",
            " 0.09943054 0.10402618 0.10300215 0.10327689 0.10097907 0.10085419\n",
            " 0.09963035 0.10027973 0.10784754 0.10837205 0.11341725 0.11109446\n",
            " 0.10152855 0.10237774 0.10609921 0.1098956  0.10967081 0.1065238\n",
            " 0.10447575 0.10712323 0.11841251 0.11519057 0.11688896 0.11973625\n",
            " 0.12135971 0.12732904 0.12338279 0.12078525 0.10804736 0.10949598\n",
            " 0.10592437 0.10819721 0.10759778 0.10077926 0.09298666 0.0942105\n",
            " 0.10025476 0.10270243 0.10292722 0.0990559  0.09041411 0.09271192\n",
            " 0.08939008 0.09226235 0.08349568 0.088416   0.09063889 0.09386083\n",
            " 0.09288676 0.09266197 0.08941506 0.08791648 0.09503472 0.09773215\n",
            " 0.1020031  0.10752285 0.10877167 0.10932114 0.10734802 0.10722314\n",
            " 0.10892152 0.10774764 0.11703881 0.11012039 0.10802238 0.11066986\n",
            " 0.11434138 0.11301763 0.11381687 0.11492221]\n",
            "1 day output [[0.11583215]]\n",
            "2 day input [0.06641191 0.07060792 0.06990859 0.06918427 0.06843499 0.07260602\n",
            " 0.07647735 0.07805085 0.07882512 0.08554373 0.09068885 0.0970578\n",
            " 0.09373595 0.09840651 0.09688296 0.09973026 0.10849693 0.10682352\n",
            " 0.10160348 0.09176283 0.10100405 0.09913083 0.1026275  0.10702333\n",
            " 0.10809731 0.10255258 0.09808182 0.09973026 0.10027973 0.09943054\n",
            " 0.10402618 0.10300215 0.10327689 0.10097907 0.10085419 0.09963035\n",
            " 0.10027973 0.10784754 0.10837205 0.11341725 0.11109446 0.10152855\n",
            " 0.10237774 0.10609921 0.1098956  0.10967081 0.1065238  0.10447575\n",
            " 0.10712323 0.11841251 0.11519057 0.11688896 0.11973625 0.12135971\n",
            " 0.12732904 0.12338279 0.12078525 0.10804736 0.10949598 0.10592437\n",
            " 0.10819721 0.10759778 0.10077926 0.09298666 0.0942105  0.10025476\n",
            " 0.10270243 0.10292722 0.0990559  0.09041411 0.09271192 0.08939008\n",
            " 0.09226235 0.08349568 0.088416   0.09063889 0.09386083 0.09288676\n",
            " 0.09266197 0.08941506 0.08791648 0.09503472 0.09773215 0.1020031\n",
            " 0.10752285 0.10877167 0.10932114 0.10734802 0.10722314 0.10892152\n",
            " 0.10774764 0.11703881 0.11012039 0.10802238 0.11066986 0.11434138\n",
            " 0.11301763 0.11381687 0.11492221 0.11583215]\n",
            "2 day output [[0.1166929]]\n",
            "3 day input [0.07060792 0.06990859 0.06918427 0.06843499 0.07260602 0.07647735\n",
            " 0.07805085 0.07882512 0.08554373 0.09068885 0.0970578  0.09373595\n",
            " 0.09840651 0.09688296 0.09973026 0.10849693 0.10682352 0.10160348\n",
            " 0.09176283 0.10100405 0.09913083 0.1026275  0.10702333 0.10809731\n",
            " 0.10255258 0.09808182 0.09973026 0.10027973 0.09943054 0.10402618\n",
            " 0.10300215 0.10327689 0.10097907 0.10085419 0.09963035 0.10027973\n",
            " 0.10784754 0.10837205 0.11341725 0.11109446 0.10152855 0.10237774\n",
            " 0.10609921 0.1098956  0.10967081 0.1065238  0.10447575 0.10712323\n",
            " 0.11841251 0.11519057 0.11688896 0.11973625 0.12135971 0.12732904\n",
            " 0.12338279 0.12078525 0.10804736 0.10949598 0.10592437 0.10819721\n",
            " 0.10759778 0.10077926 0.09298666 0.0942105  0.10025476 0.10270243\n",
            " 0.10292722 0.0990559  0.09041411 0.09271192 0.08939008 0.09226235\n",
            " 0.08349568 0.088416   0.09063889 0.09386083 0.09288676 0.09266197\n",
            " 0.08941506 0.08791648 0.09503472 0.09773215 0.1020031  0.10752285\n",
            " 0.10877167 0.10932114 0.10734802 0.10722314 0.10892152 0.10774764\n",
            " 0.11703881 0.11012039 0.10802238 0.11066986 0.11434138 0.11301763\n",
            " 0.11381687 0.11492221 0.11583215 0.1166929 ]\n",
            "3 day output [[0.11751609]]\n",
            "4 day input [0.06990859 0.06918427 0.06843499 0.07260602 0.07647735 0.07805085\n",
            " 0.07882512 0.08554373 0.09068885 0.0970578  0.09373595 0.09840651\n",
            " 0.09688296 0.09973026 0.10849693 0.10682352 0.10160348 0.09176283\n",
            " 0.10100405 0.09913083 0.1026275  0.10702333 0.10809731 0.10255258\n",
            " 0.09808182 0.09973026 0.10027973 0.09943054 0.10402618 0.10300215\n",
            " 0.10327689 0.10097907 0.10085419 0.09963035 0.10027973 0.10784754\n",
            " 0.10837205 0.11341725 0.11109446 0.10152855 0.10237774 0.10609921\n",
            " 0.1098956  0.10967081 0.1065238  0.10447575 0.10712323 0.11841251\n",
            " 0.11519057 0.11688896 0.11973625 0.12135971 0.12732904 0.12338279\n",
            " 0.12078525 0.10804736 0.10949598 0.10592437 0.10819721 0.10759778\n",
            " 0.10077926 0.09298666 0.0942105  0.10025476 0.10270243 0.10292722\n",
            " 0.0990559  0.09041411 0.09271192 0.08939008 0.09226235 0.08349568\n",
            " 0.088416   0.09063889 0.09386083 0.09288676 0.09266197 0.08941506\n",
            " 0.08791648 0.09503472 0.09773215 0.1020031  0.10752285 0.10877167\n",
            " 0.10932114 0.10734802 0.10722314 0.10892152 0.10774764 0.11703881\n",
            " 0.11012039 0.10802238 0.11066986 0.11434138 0.11301763 0.11381687\n",
            " 0.11492221 0.11583215 0.1166929  0.11751609]\n",
            "4 day output [[0.11831161]]\n",
            "5 day input [0.06918427 0.06843499 0.07260602 0.07647735 0.07805085 0.07882512\n",
            " 0.08554373 0.09068885 0.0970578  0.09373595 0.09840651 0.09688296\n",
            " 0.09973026 0.10849693 0.10682352 0.10160348 0.09176283 0.10100405\n",
            " 0.09913083 0.1026275  0.10702333 0.10809731 0.10255258 0.09808182\n",
            " 0.09973026 0.10027973 0.09943054 0.10402618 0.10300215 0.10327689\n",
            " 0.10097907 0.10085419 0.09963035 0.10027973 0.10784754 0.10837205\n",
            " 0.11341725 0.11109446 0.10152855 0.10237774 0.10609921 0.1098956\n",
            " 0.10967081 0.1065238  0.10447575 0.10712323 0.11841251 0.11519057\n",
            " 0.11688896 0.11973625 0.12135971 0.12732904 0.12338279 0.12078525\n",
            " 0.10804736 0.10949598 0.10592437 0.10819721 0.10759778 0.10077926\n",
            " 0.09298666 0.0942105  0.10025476 0.10270243 0.10292722 0.0990559\n",
            " 0.09041411 0.09271192 0.08939008 0.09226235 0.08349568 0.088416\n",
            " 0.09063889 0.09386083 0.09288676 0.09266197 0.08941506 0.08791648\n",
            " 0.09503472 0.09773215 0.1020031  0.10752285 0.10877167 0.10932114\n",
            " 0.10734802 0.10722314 0.10892152 0.10774764 0.11703881 0.11012039\n",
            " 0.10802238 0.11066986 0.11434138 0.11301763 0.11381687 0.11492221\n",
            " 0.11583215 0.1166929  0.11751609 0.11831161]\n",
            "5 day output [[0.11908732]]\n",
            "6 day input [0.06843499 0.07260602 0.07647735 0.07805085 0.07882512 0.08554373\n",
            " 0.09068885 0.0970578  0.09373595 0.09840651 0.09688296 0.09973026\n",
            " 0.10849693 0.10682352 0.10160348 0.09176283 0.10100405 0.09913083\n",
            " 0.1026275  0.10702333 0.10809731 0.10255258 0.09808182 0.09973026\n",
            " 0.10027973 0.09943054 0.10402618 0.10300215 0.10327689 0.10097907\n",
            " 0.10085419 0.09963035 0.10027973 0.10784754 0.10837205 0.11341725\n",
            " 0.11109446 0.10152855 0.10237774 0.10609921 0.1098956  0.10967081\n",
            " 0.1065238  0.10447575 0.10712323 0.11841251 0.11519057 0.11688896\n",
            " 0.11973625 0.12135971 0.12732904 0.12338279 0.12078525 0.10804736\n",
            " 0.10949598 0.10592437 0.10819721 0.10759778 0.10077926 0.09298666\n",
            " 0.0942105  0.10025476 0.10270243 0.10292722 0.0990559  0.09041411\n",
            " 0.09271192 0.08939008 0.09226235 0.08349568 0.088416   0.09063889\n",
            " 0.09386083 0.09288676 0.09266197 0.08941506 0.08791648 0.09503472\n",
            " 0.09773215 0.1020031  0.10752285 0.10877167 0.10932114 0.10734802\n",
            " 0.10722314 0.10892152 0.10774764 0.11703881 0.11012039 0.10802238\n",
            " 0.11066986 0.11434138 0.11301763 0.11381687 0.11492221 0.11583215\n",
            " 0.1166929  0.11751609 0.11831161 0.11908732]\n",
            "6 day output [[0.11984917]]\n",
            "7 day input [0.07260602 0.07647735 0.07805085 0.07882512 0.08554373 0.09068885\n",
            " 0.0970578  0.09373595 0.09840651 0.09688296 0.09973026 0.10849693\n",
            " 0.10682352 0.10160348 0.09176283 0.10100405 0.09913083 0.1026275\n",
            " 0.10702333 0.10809731 0.10255258 0.09808182 0.09973026 0.10027973\n",
            " 0.09943054 0.10402618 0.10300215 0.10327689 0.10097907 0.10085419\n",
            " 0.09963035 0.10027973 0.10784754 0.10837205 0.11341725 0.11109446\n",
            " 0.10152855 0.10237774 0.10609921 0.1098956  0.10967081 0.1065238\n",
            " 0.10447575 0.10712323 0.11841251 0.11519057 0.11688896 0.11973625\n",
            " 0.12135971 0.12732904 0.12338279 0.12078525 0.10804736 0.10949598\n",
            " 0.10592437 0.10819721 0.10759778 0.10077926 0.09298666 0.0942105\n",
            " 0.10025476 0.10270243 0.10292722 0.0990559  0.09041411 0.09271192\n",
            " 0.08939008 0.09226235 0.08349568 0.088416   0.09063889 0.09386083\n",
            " 0.09288676 0.09266197 0.08941506 0.08791648 0.09503472 0.09773215\n",
            " 0.1020031  0.10752285 0.10877167 0.10932114 0.10734802 0.10722314\n",
            " 0.10892152 0.10774764 0.11703881 0.11012039 0.10802238 0.11066986\n",
            " 0.11434138 0.11301763 0.11381687 0.11492221 0.11583215 0.1166929\n",
            " 0.11751609 0.11831161 0.11908732 0.11984917]\n",
            "7 day output [[0.12060128]]\n",
            "8 day input [0.07647735 0.07805085 0.07882512 0.08554373 0.09068885 0.0970578\n",
            " 0.09373595 0.09840651 0.09688296 0.09973026 0.10849693 0.10682352\n",
            " 0.10160348 0.09176283 0.10100405 0.09913083 0.1026275  0.10702333\n",
            " 0.10809731 0.10255258 0.09808182 0.09973026 0.10027973 0.09943054\n",
            " 0.10402618 0.10300215 0.10327689 0.10097907 0.10085419 0.09963035\n",
            " 0.10027973 0.10784754 0.10837205 0.11341725 0.11109446 0.10152855\n",
            " 0.10237774 0.10609921 0.1098956  0.10967081 0.1065238  0.10447575\n",
            " 0.10712323 0.11841251 0.11519057 0.11688896 0.11973625 0.12135971\n",
            " 0.12732904 0.12338279 0.12078525 0.10804736 0.10949598 0.10592437\n",
            " 0.10819721 0.10759778 0.10077926 0.09298666 0.0942105  0.10025476\n",
            " 0.10270243 0.10292722 0.0990559  0.09041411 0.09271192 0.08939008\n",
            " 0.09226235 0.08349568 0.088416   0.09063889 0.09386083 0.09288676\n",
            " 0.09266197 0.08941506 0.08791648 0.09503472 0.09773215 0.1020031\n",
            " 0.10752285 0.10877167 0.10932114 0.10734802 0.10722314 0.10892152\n",
            " 0.10774764 0.11703881 0.11012039 0.10802238 0.11066986 0.11434138\n",
            " 0.11301763 0.11381687 0.11492221 0.11583215 0.1166929  0.11751609\n",
            " 0.11831161 0.11908732 0.11984917 0.12060128]\n",
            "8 day output [[0.12134655]]\n",
            "9 day input [0.07805085 0.07882512 0.08554373 0.09068885 0.0970578  0.09373595\n",
            " 0.09840651 0.09688296 0.09973026 0.10849693 0.10682352 0.10160348\n",
            " 0.09176283 0.10100405 0.09913083 0.1026275  0.10702333 0.10809731\n",
            " 0.10255258 0.09808182 0.09973026 0.10027973 0.09943054 0.10402618\n",
            " 0.10300215 0.10327689 0.10097907 0.10085419 0.09963035 0.10027973\n",
            " 0.10784754 0.10837205 0.11341725 0.11109446 0.10152855 0.10237774\n",
            " 0.10609921 0.1098956  0.10967081 0.1065238  0.10447575 0.10712323\n",
            " 0.11841251 0.11519057 0.11688896 0.11973625 0.12135971 0.12732904\n",
            " 0.12338279 0.12078525 0.10804736 0.10949598 0.10592437 0.10819721\n",
            " 0.10759778 0.10077926 0.09298666 0.0942105  0.10025476 0.10270243\n",
            " 0.10292722 0.0990559  0.09041411 0.09271192 0.08939008 0.09226235\n",
            " 0.08349568 0.088416   0.09063889 0.09386083 0.09288676 0.09266197\n",
            " 0.08941506 0.08791648 0.09503472 0.09773215 0.1020031  0.10752285\n",
            " 0.10877167 0.10932114 0.10734802 0.10722314 0.10892152 0.10774764\n",
            " 0.11703881 0.11012039 0.10802238 0.11066986 0.11434138 0.11301763\n",
            " 0.11381687 0.11492221 0.11583215 0.1166929  0.11751609 0.11831161\n",
            " 0.11908732 0.11984917 0.12060128 0.12134655]\n",
            "9 day output [[0.12208669]]\n",
            "10 day input [0.07882512 0.08554373 0.09068885 0.0970578  0.09373595 0.09840651\n",
            " 0.09688296 0.09973026 0.10849693 0.10682352 0.10160348 0.09176283\n",
            " 0.10100405 0.09913083 0.1026275  0.10702333 0.10809731 0.10255258\n",
            " 0.09808182 0.09973026 0.10027973 0.09943054 0.10402618 0.10300215\n",
            " 0.10327689 0.10097907 0.10085419 0.09963035 0.10027973 0.10784754\n",
            " 0.10837205 0.11341725 0.11109446 0.10152855 0.10237774 0.10609921\n",
            " 0.1098956  0.10967081 0.1065238  0.10447575 0.10712323 0.11841251\n",
            " 0.11519057 0.11688896 0.11973625 0.12135971 0.12732904 0.12338279\n",
            " 0.12078525 0.10804736 0.10949598 0.10592437 0.10819721 0.10759778\n",
            " 0.10077926 0.09298666 0.0942105  0.10025476 0.10270243 0.10292722\n",
            " 0.0990559  0.09041411 0.09271192 0.08939008 0.09226235 0.08349568\n",
            " 0.088416   0.09063889 0.09386083 0.09288676 0.09266197 0.08941506\n",
            " 0.08791648 0.09503472 0.09773215 0.1020031  0.10752285 0.10877167\n",
            " 0.10932114 0.10734802 0.10722314 0.10892152 0.10774764 0.11703881\n",
            " 0.11012039 0.10802238 0.11066986 0.11434138 0.11301763 0.11381687\n",
            " 0.11492221 0.11583215 0.1166929  0.11751609 0.11831161 0.11908732\n",
            " 0.11984917 0.12060128 0.12134655 0.12208669]\n",
            "10 day output [[0.12282284]]\n",
            "11 day input [0.08554373 0.09068885 0.0970578  0.09373595 0.09840651 0.09688296\n",
            " 0.09973026 0.10849693 0.10682352 0.10160348 0.09176283 0.10100405\n",
            " 0.09913083 0.1026275  0.10702333 0.10809731 0.10255258 0.09808182\n",
            " 0.09973026 0.10027973 0.09943054 0.10402618 0.10300215 0.10327689\n",
            " 0.10097907 0.10085419 0.09963035 0.10027973 0.10784754 0.10837205\n",
            " 0.11341725 0.11109446 0.10152855 0.10237774 0.10609921 0.1098956\n",
            " 0.10967081 0.1065238  0.10447575 0.10712323 0.11841251 0.11519057\n",
            " 0.11688896 0.11973625 0.12135971 0.12732904 0.12338279 0.12078525\n",
            " 0.10804736 0.10949598 0.10592437 0.10819721 0.10759778 0.10077926\n",
            " 0.09298666 0.0942105  0.10025476 0.10270243 0.10292722 0.0990559\n",
            " 0.09041411 0.09271192 0.08939008 0.09226235 0.08349568 0.088416\n",
            " 0.09063889 0.09386083 0.09288676 0.09266197 0.08941506 0.08791648\n",
            " 0.09503472 0.09773215 0.1020031  0.10752285 0.10877167 0.10932114\n",
            " 0.10734802 0.10722314 0.10892152 0.10774764 0.11703881 0.11012039\n",
            " 0.10802238 0.11066986 0.11434138 0.11301763 0.11381687 0.11492221\n",
            " 0.11583215 0.1166929  0.11751609 0.11831161 0.11908732 0.11984917\n",
            " 0.12060128 0.12134655 0.12208669 0.12282284]\n",
            "11 day output [[0.12355547]]\n",
            "12 day input [0.09068885 0.0970578  0.09373595 0.09840651 0.09688296 0.09973026\n",
            " 0.10849693 0.10682352 0.10160348 0.09176283 0.10100405 0.09913083\n",
            " 0.1026275  0.10702333 0.10809731 0.10255258 0.09808182 0.09973026\n",
            " 0.10027973 0.09943054 0.10402618 0.10300215 0.10327689 0.10097907\n",
            " 0.10085419 0.09963035 0.10027973 0.10784754 0.10837205 0.11341725\n",
            " 0.11109446 0.10152855 0.10237774 0.10609921 0.1098956  0.10967081\n",
            " 0.1065238  0.10447575 0.10712323 0.11841251 0.11519057 0.11688896\n",
            " 0.11973625 0.12135971 0.12732904 0.12338279 0.12078525 0.10804736\n",
            " 0.10949598 0.10592437 0.10819721 0.10759778 0.10077926 0.09298666\n",
            " 0.0942105  0.10025476 0.10270243 0.10292722 0.0990559  0.09041411\n",
            " 0.09271192 0.08939008 0.09226235 0.08349568 0.088416   0.09063889\n",
            " 0.09386083 0.09288676 0.09266197 0.08941506 0.08791648 0.09503472\n",
            " 0.09773215 0.1020031  0.10752285 0.10877167 0.10932114 0.10734802\n",
            " 0.10722314 0.10892152 0.10774764 0.11703881 0.11012039 0.10802238\n",
            " 0.11066986 0.11434138 0.11301763 0.11381687 0.11492221 0.11583215\n",
            " 0.1166929  0.11751609 0.11831161 0.11908732 0.11984917 0.12060128\n",
            " 0.12134655 0.12208669 0.12282284 0.12355547]\n",
            "12 day output [[0.12428488]]\n",
            "13 day input [0.0970578  0.09373595 0.09840651 0.09688296 0.09973026 0.10849693\n",
            " 0.10682352 0.10160348 0.09176283 0.10100405 0.09913083 0.1026275\n",
            " 0.10702333 0.10809731 0.10255258 0.09808182 0.09973026 0.10027973\n",
            " 0.09943054 0.10402618 0.10300215 0.10327689 0.10097907 0.10085419\n",
            " 0.09963035 0.10027973 0.10784754 0.10837205 0.11341725 0.11109446\n",
            " 0.10152855 0.10237774 0.10609921 0.1098956  0.10967081 0.1065238\n",
            " 0.10447575 0.10712323 0.11841251 0.11519057 0.11688896 0.11973625\n",
            " 0.12135971 0.12732904 0.12338279 0.12078525 0.10804736 0.10949598\n",
            " 0.10592437 0.10819721 0.10759778 0.10077926 0.09298666 0.0942105\n",
            " 0.10025476 0.10270243 0.10292722 0.0990559  0.09041411 0.09271192\n",
            " 0.08939008 0.09226235 0.08349568 0.088416   0.09063889 0.09386083\n",
            " 0.09288676 0.09266197 0.08941506 0.08791648 0.09503472 0.09773215\n",
            " 0.1020031  0.10752285 0.10877167 0.10932114 0.10734802 0.10722314\n",
            " 0.10892152 0.10774764 0.11703881 0.11012039 0.10802238 0.11066986\n",
            " 0.11434138 0.11301763 0.11381687 0.11492221 0.11583215 0.1166929\n",
            " 0.11751609 0.11831161 0.11908732 0.11984917 0.12060128 0.12134655\n",
            " 0.12208669 0.12282284 0.12355547 0.12428488]\n",
            "13 day output [[0.1250111]]\n",
            "14 day input [0.09373595 0.09840651 0.09688296 0.09973026 0.10849693 0.10682352\n",
            " 0.10160348 0.09176283 0.10100405 0.09913083 0.1026275  0.10702333\n",
            " 0.10809731 0.10255258 0.09808182 0.09973026 0.10027973 0.09943054\n",
            " 0.10402618 0.10300215 0.10327689 0.10097907 0.10085419 0.09963035\n",
            " 0.10027973 0.10784754 0.10837205 0.11341725 0.11109446 0.10152855\n",
            " 0.10237774 0.10609921 0.1098956  0.10967081 0.1065238  0.10447575\n",
            " 0.10712323 0.11841251 0.11519057 0.11688896 0.11973625 0.12135971\n",
            " 0.12732904 0.12338279 0.12078525 0.10804736 0.10949598 0.10592437\n",
            " 0.10819721 0.10759778 0.10077926 0.09298666 0.0942105  0.10025476\n",
            " 0.10270243 0.10292722 0.0990559  0.09041411 0.09271192 0.08939008\n",
            " 0.09226235 0.08349568 0.088416   0.09063889 0.09386083 0.09288676\n",
            " 0.09266197 0.08941506 0.08791648 0.09503472 0.09773215 0.1020031\n",
            " 0.10752285 0.10877167 0.10932114 0.10734802 0.10722314 0.10892152\n",
            " 0.10774764 0.11703881 0.11012039 0.10802238 0.11066986 0.11434138\n",
            " 0.11301763 0.11381687 0.11492221 0.11583215 0.1166929  0.11751609\n",
            " 0.11831161 0.11908732 0.11984917 0.12060128 0.12134655 0.12208669\n",
            " 0.12282284 0.12355547 0.12428488 0.1250111 ]\n",
            "14 day output [[0.12573412]]\n",
            "15 day input [0.09840651 0.09688296 0.09973026 0.10849693 0.10682352 0.10160348\n",
            " 0.09176283 0.10100405 0.09913083 0.1026275  0.10702333 0.10809731\n",
            " 0.10255258 0.09808182 0.09973026 0.10027973 0.09943054 0.10402618\n",
            " 0.10300215 0.10327689 0.10097907 0.10085419 0.09963035 0.10027973\n",
            " 0.10784754 0.10837205 0.11341725 0.11109446 0.10152855 0.10237774\n",
            " 0.10609921 0.1098956  0.10967081 0.1065238  0.10447575 0.10712323\n",
            " 0.11841251 0.11519057 0.11688896 0.11973625 0.12135971 0.12732904\n",
            " 0.12338279 0.12078525 0.10804736 0.10949598 0.10592437 0.10819721\n",
            " 0.10759778 0.10077926 0.09298666 0.0942105  0.10025476 0.10270243\n",
            " 0.10292722 0.0990559  0.09041411 0.09271192 0.08939008 0.09226235\n",
            " 0.08349568 0.088416   0.09063889 0.09386083 0.09288676 0.09266197\n",
            " 0.08941506 0.08791648 0.09503472 0.09773215 0.1020031  0.10752285\n",
            " 0.10877167 0.10932114 0.10734802 0.10722314 0.10892152 0.10774764\n",
            " 0.11703881 0.11012039 0.10802238 0.11066986 0.11434138 0.11301763\n",
            " 0.11381687 0.11492221 0.11583215 0.1166929  0.11751609 0.11831161\n",
            " 0.11908732 0.11984917 0.12060128 0.12134655 0.12208669 0.12282284\n",
            " 0.12355547 0.12428488 0.1250111  0.12573412]\n",
            "15 day output [[0.1264538]]\n",
            "16 day input [0.09688296 0.09973026 0.10849693 0.10682352 0.10160348 0.09176283\n",
            " 0.10100405 0.09913083 0.1026275  0.10702333 0.10809731 0.10255258\n",
            " 0.09808182 0.09973026 0.10027973 0.09943054 0.10402618 0.10300215\n",
            " 0.10327689 0.10097907 0.10085419 0.09963035 0.10027973 0.10784754\n",
            " 0.10837205 0.11341725 0.11109446 0.10152855 0.10237774 0.10609921\n",
            " 0.1098956  0.10967081 0.1065238  0.10447575 0.10712323 0.11841251\n",
            " 0.11519057 0.11688896 0.11973625 0.12135971 0.12732904 0.12338279\n",
            " 0.12078525 0.10804736 0.10949598 0.10592437 0.10819721 0.10759778\n",
            " 0.10077926 0.09298666 0.0942105  0.10025476 0.10270243 0.10292722\n",
            " 0.0990559  0.09041411 0.09271192 0.08939008 0.09226235 0.08349568\n",
            " 0.088416   0.09063889 0.09386083 0.09288676 0.09266197 0.08941506\n",
            " 0.08791648 0.09503472 0.09773215 0.1020031  0.10752285 0.10877167\n",
            " 0.10932114 0.10734802 0.10722314 0.10892152 0.10774764 0.11703881\n",
            " 0.11012039 0.10802238 0.11066986 0.11434138 0.11301763 0.11381687\n",
            " 0.11492221 0.11583215 0.1166929  0.11751609 0.11831161 0.11908732\n",
            " 0.11984917 0.12060128 0.12134655 0.12208669 0.12282284 0.12355547\n",
            " 0.12428488 0.1250111  0.12573412 0.1264538 ]\n",
            "16 day output [[0.12717016]]\n",
            "17 day input [0.09973026 0.10849693 0.10682352 0.10160348 0.09176283 0.10100405\n",
            " 0.09913083 0.1026275  0.10702333 0.10809731 0.10255258 0.09808182\n",
            " 0.09973026 0.10027973 0.09943054 0.10402618 0.10300215 0.10327689\n",
            " 0.10097907 0.10085419 0.09963035 0.10027973 0.10784754 0.10837205\n",
            " 0.11341725 0.11109446 0.10152855 0.10237774 0.10609921 0.1098956\n",
            " 0.10967081 0.1065238  0.10447575 0.10712323 0.11841251 0.11519057\n",
            " 0.11688896 0.11973625 0.12135971 0.12732904 0.12338279 0.12078525\n",
            " 0.10804736 0.10949598 0.10592437 0.10819721 0.10759778 0.10077926\n",
            " 0.09298666 0.0942105  0.10025476 0.10270243 0.10292722 0.0990559\n",
            " 0.09041411 0.09271192 0.08939008 0.09226235 0.08349568 0.088416\n",
            " 0.09063889 0.09386083 0.09288676 0.09266197 0.08941506 0.08791648\n",
            " 0.09503472 0.09773215 0.1020031  0.10752285 0.10877167 0.10932114\n",
            " 0.10734802 0.10722314 0.10892152 0.10774764 0.11703881 0.11012039\n",
            " 0.10802238 0.11066986 0.11434138 0.11301763 0.11381687 0.11492221\n",
            " 0.11583215 0.1166929  0.11751609 0.11831161 0.11908732 0.11984917\n",
            " 0.12060128 0.12134655 0.12208669 0.12282284 0.12355547 0.12428488\n",
            " 0.1250111  0.12573412 0.1264538  0.12717016]\n",
            "17 day output [[0.12788308]]\n",
            "18 day input [0.10849693 0.10682352 0.10160348 0.09176283 0.10100405 0.09913083\n",
            " 0.1026275  0.10702333 0.10809731 0.10255258 0.09808182 0.09973026\n",
            " 0.10027973 0.09943054 0.10402618 0.10300215 0.10327689 0.10097907\n",
            " 0.10085419 0.09963035 0.10027973 0.10784754 0.10837205 0.11341725\n",
            " 0.11109446 0.10152855 0.10237774 0.10609921 0.1098956  0.10967081\n",
            " 0.1065238  0.10447575 0.10712323 0.11841251 0.11519057 0.11688896\n",
            " 0.11973625 0.12135971 0.12732904 0.12338279 0.12078525 0.10804736\n",
            " 0.10949598 0.10592437 0.10819721 0.10759778 0.10077926 0.09298666\n",
            " 0.0942105  0.10025476 0.10270243 0.10292722 0.0990559  0.09041411\n",
            " 0.09271192 0.08939008 0.09226235 0.08349568 0.088416   0.09063889\n",
            " 0.09386083 0.09288676 0.09266197 0.08941506 0.08791648 0.09503472\n",
            " 0.09773215 0.1020031  0.10752285 0.10877167 0.10932114 0.10734802\n",
            " 0.10722314 0.10892152 0.10774764 0.11703881 0.11012039 0.10802238\n",
            " 0.11066986 0.11434138 0.11301763 0.11381687 0.11492221 0.11583215\n",
            " 0.1166929  0.11751609 0.11831161 0.11908732 0.11984917 0.12060128\n",
            " 0.12134655 0.12208669 0.12282284 0.12355547 0.12428488 0.1250111\n",
            " 0.12573412 0.1264538  0.12717016 0.12788308]\n",
            "18 day output [[0.12859258]]\n",
            "19 day input [0.10682352 0.10160348 0.09176283 0.10100405 0.09913083 0.1026275\n",
            " 0.10702333 0.10809731 0.10255258 0.09808182 0.09973026 0.10027973\n",
            " 0.09943054 0.10402618 0.10300215 0.10327689 0.10097907 0.10085419\n",
            " 0.09963035 0.10027973 0.10784754 0.10837205 0.11341725 0.11109446\n",
            " 0.10152855 0.10237774 0.10609921 0.1098956  0.10967081 0.1065238\n",
            " 0.10447575 0.10712323 0.11841251 0.11519057 0.11688896 0.11973625\n",
            " 0.12135971 0.12732904 0.12338279 0.12078525 0.10804736 0.10949598\n",
            " 0.10592437 0.10819721 0.10759778 0.10077926 0.09298666 0.0942105\n",
            " 0.10025476 0.10270243 0.10292722 0.0990559  0.09041411 0.09271192\n",
            " 0.08939008 0.09226235 0.08349568 0.088416   0.09063889 0.09386083\n",
            " 0.09288676 0.09266197 0.08941506 0.08791648 0.09503472 0.09773215\n",
            " 0.1020031  0.10752285 0.10877167 0.10932114 0.10734802 0.10722314\n",
            " 0.10892152 0.10774764 0.11703881 0.11012039 0.10802238 0.11066986\n",
            " 0.11434138 0.11301763 0.11381687 0.11492221 0.11583215 0.1166929\n",
            " 0.11751609 0.11831161 0.11908732 0.11984917 0.12060128 0.12134655\n",
            " 0.12208669 0.12282284 0.12355547 0.12428488 0.1250111  0.12573412\n",
            " 0.1264538  0.12717016 0.12788308 0.12859258]\n",
            "19 day output [[0.12929858]]\n",
            "20 day input [0.10160348 0.09176283 0.10100405 0.09913083 0.1026275  0.10702333\n",
            " 0.10809731 0.10255258 0.09808182 0.09973026 0.10027973 0.09943054\n",
            " 0.10402618 0.10300215 0.10327689 0.10097907 0.10085419 0.09963035\n",
            " 0.10027973 0.10784754 0.10837205 0.11341725 0.11109446 0.10152855\n",
            " 0.10237774 0.10609921 0.1098956  0.10967081 0.1065238  0.10447575\n",
            " 0.10712323 0.11841251 0.11519057 0.11688896 0.11973625 0.12135971\n",
            " 0.12732904 0.12338279 0.12078525 0.10804736 0.10949598 0.10592437\n",
            " 0.10819721 0.10759778 0.10077926 0.09298666 0.0942105  0.10025476\n",
            " 0.10270243 0.10292722 0.0990559  0.09041411 0.09271192 0.08939008\n",
            " 0.09226235 0.08349568 0.088416   0.09063889 0.09386083 0.09288676\n",
            " 0.09266197 0.08941506 0.08791648 0.09503472 0.09773215 0.1020031\n",
            " 0.10752285 0.10877167 0.10932114 0.10734802 0.10722314 0.10892152\n",
            " 0.10774764 0.11703881 0.11012039 0.10802238 0.11066986 0.11434138\n",
            " 0.11301763 0.11381687 0.11492221 0.11583215 0.1166929  0.11751609\n",
            " 0.11831161 0.11908732 0.11984917 0.12060128 0.12134655 0.12208669\n",
            " 0.12282284 0.12355547 0.12428488 0.1250111  0.12573412 0.1264538\n",
            " 0.12717016 0.12788308 0.12859258 0.12929858]\n",
            "20 day output [[0.13000116]]\n",
            "21 day input [0.09176283 0.10100405 0.09913083 0.1026275  0.10702333 0.10809731\n",
            " 0.10255258 0.09808182 0.09973026 0.10027973 0.09943054 0.10402618\n",
            " 0.10300215 0.10327689 0.10097907 0.10085419 0.09963035 0.10027973\n",
            " 0.10784754 0.10837205 0.11341725 0.11109446 0.10152855 0.10237774\n",
            " 0.10609921 0.1098956  0.10967081 0.1065238  0.10447575 0.10712323\n",
            " 0.11841251 0.11519057 0.11688896 0.11973625 0.12135971 0.12732904\n",
            " 0.12338279 0.12078525 0.10804736 0.10949598 0.10592437 0.10819721\n",
            " 0.10759778 0.10077926 0.09298666 0.0942105  0.10025476 0.10270243\n",
            " 0.10292722 0.0990559  0.09041411 0.09271192 0.08939008 0.09226235\n",
            " 0.08349568 0.088416   0.09063889 0.09386083 0.09288676 0.09266197\n",
            " 0.08941506 0.08791648 0.09503472 0.09773215 0.1020031  0.10752285\n",
            " 0.10877167 0.10932114 0.10734802 0.10722314 0.10892152 0.10774764\n",
            " 0.11703881 0.11012039 0.10802238 0.11066986 0.11434138 0.11301763\n",
            " 0.11381687 0.11492221 0.11583215 0.1166929  0.11751609 0.11831161\n",
            " 0.11908732 0.11984917 0.12060128 0.12134655 0.12208669 0.12282284\n",
            " 0.12355547 0.12428488 0.1250111  0.12573412 0.1264538  0.12717016\n",
            " 0.12788308 0.12859258 0.12929858 0.13000116]\n",
            "21 day output [[0.13070033]]\n",
            "22 day input [0.10100405 0.09913083 0.1026275  0.10702333 0.10809731 0.10255258\n",
            " 0.09808182 0.09973026 0.10027973 0.09943054 0.10402618 0.10300215\n",
            " 0.10327689 0.10097907 0.10085419 0.09963035 0.10027973 0.10784754\n",
            " 0.10837205 0.11341725 0.11109446 0.10152855 0.10237774 0.10609921\n",
            " 0.1098956  0.10967081 0.1065238  0.10447575 0.10712323 0.11841251\n",
            " 0.11519057 0.11688896 0.11973625 0.12135971 0.12732904 0.12338279\n",
            " 0.12078525 0.10804736 0.10949598 0.10592437 0.10819721 0.10759778\n",
            " 0.10077926 0.09298666 0.0942105  0.10025476 0.10270243 0.10292722\n",
            " 0.0990559  0.09041411 0.09271192 0.08939008 0.09226235 0.08349568\n",
            " 0.088416   0.09063889 0.09386083 0.09288676 0.09266197 0.08941506\n",
            " 0.08791648 0.09503472 0.09773215 0.1020031  0.10752285 0.10877167\n",
            " 0.10932114 0.10734802 0.10722314 0.10892152 0.10774764 0.11703881\n",
            " 0.11012039 0.10802238 0.11066986 0.11434138 0.11301763 0.11381687\n",
            " 0.11492221 0.11583215 0.1166929  0.11751609 0.11831161 0.11908732\n",
            " 0.11984917 0.12060128 0.12134655 0.12208669 0.12282284 0.12355547\n",
            " 0.12428488 0.1250111  0.12573412 0.1264538  0.12717016 0.12788308\n",
            " 0.12859258 0.12929858 0.13000116 0.13070033]\n",
            "22 day output [[0.13139613]]\n",
            "23 day input [0.09913083 0.1026275  0.10702333 0.10809731 0.10255258 0.09808182\n",
            " 0.09973026 0.10027973 0.09943054 0.10402618 0.10300215 0.10327689\n",
            " 0.10097907 0.10085419 0.09963035 0.10027973 0.10784754 0.10837205\n",
            " 0.11341725 0.11109446 0.10152855 0.10237774 0.10609921 0.1098956\n",
            " 0.10967081 0.1065238  0.10447575 0.10712323 0.11841251 0.11519057\n",
            " 0.11688896 0.11973625 0.12135971 0.12732904 0.12338279 0.12078525\n",
            " 0.10804736 0.10949598 0.10592437 0.10819721 0.10759778 0.10077926\n",
            " 0.09298666 0.0942105  0.10025476 0.10270243 0.10292722 0.0990559\n",
            " 0.09041411 0.09271192 0.08939008 0.09226235 0.08349568 0.088416\n",
            " 0.09063889 0.09386083 0.09288676 0.09266197 0.08941506 0.08791648\n",
            " 0.09503472 0.09773215 0.1020031  0.10752285 0.10877167 0.10932114\n",
            " 0.10734802 0.10722314 0.10892152 0.10774764 0.11703881 0.11012039\n",
            " 0.10802238 0.11066986 0.11434138 0.11301763 0.11381687 0.11492221\n",
            " 0.11583215 0.1166929  0.11751609 0.11831161 0.11908732 0.11984917\n",
            " 0.12060128 0.12134655 0.12208669 0.12282284 0.12355547 0.12428488\n",
            " 0.1250111  0.12573412 0.1264538  0.12717016 0.12788308 0.12859258\n",
            " 0.12929858 0.13000116 0.13070033 0.13139613]\n",
            "23 day output [[0.1320886]]\n",
            "24 day input [0.1026275  0.10702333 0.10809731 0.10255258 0.09808182 0.09973026\n",
            " 0.10027973 0.09943054 0.10402618 0.10300215 0.10327689 0.10097907\n",
            " 0.10085419 0.09963035 0.10027973 0.10784754 0.10837205 0.11341725\n",
            " 0.11109446 0.10152855 0.10237774 0.10609921 0.1098956  0.10967081\n",
            " 0.1065238  0.10447575 0.10712323 0.11841251 0.11519057 0.11688896\n",
            " 0.11973625 0.12135971 0.12732904 0.12338279 0.12078525 0.10804736\n",
            " 0.10949598 0.10592437 0.10819721 0.10759778 0.10077926 0.09298666\n",
            " 0.0942105  0.10025476 0.10270243 0.10292722 0.0990559  0.09041411\n",
            " 0.09271192 0.08939008 0.09226235 0.08349568 0.088416   0.09063889\n",
            " 0.09386083 0.09288676 0.09266197 0.08941506 0.08791648 0.09503472\n",
            " 0.09773215 0.1020031  0.10752285 0.10877167 0.10932114 0.10734802\n",
            " 0.10722314 0.10892152 0.10774764 0.11703881 0.11012039 0.10802238\n",
            " 0.11066986 0.11434138 0.11301763 0.11381687 0.11492221 0.11583215\n",
            " 0.1166929  0.11751609 0.11831161 0.11908732 0.11984917 0.12060128\n",
            " 0.12134655 0.12208669 0.12282284 0.12355547 0.12428488 0.1250111\n",
            " 0.12573412 0.1264538  0.12717016 0.12788308 0.12859258 0.12929858\n",
            " 0.13000116 0.13070033 0.13139613 0.1320886 ]\n",
            "24 day output [[0.13277785]]\n",
            "25 day input [0.10702333 0.10809731 0.10255258 0.09808182 0.09973026 0.10027973\n",
            " 0.09943054 0.10402618 0.10300215 0.10327689 0.10097907 0.10085419\n",
            " 0.09963035 0.10027973 0.10784754 0.10837205 0.11341725 0.11109446\n",
            " 0.10152855 0.10237774 0.10609921 0.1098956  0.10967081 0.1065238\n",
            " 0.10447575 0.10712323 0.11841251 0.11519057 0.11688896 0.11973625\n",
            " 0.12135971 0.12732904 0.12338279 0.12078525 0.10804736 0.10949598\n",
            " 0.10592437 0.10819721 0.10759778 0.10077926 0.09298666 0.0942105\n",
            " 0.10025476 0.10270243 0.10292722 0.0990559  0.09041411 0.09271192\n",
            " 0.08939008 0.09226235 0.08349568 0.088416   0.09063889 0.09386083\n",
            " 0.09288676 0.09266197 0.08941506 0.08791648 0.09503472 0.09773215\n",
            " 0.1020031  0.10752285 0.10877167 0.10932114 0.10734802 0.10722314\n",
            " 0.10892152 0.10774764 0.11703881 0.11012039 0.10802238 0.11066986\n",
            " 0.11434138 0.11301763 0.11381687 0.11492221 0.11583215 0.1166929\n",
            " 0.11751609 0.11831161 0.11908732 0.11984917 0.12060128 0.12134655\n",
            " 0.12208669 0.12282284 0.12355547 0.12428488 0.1250111  0.12573412\n",
            " 0.1264538  0.12717016 0.12788308 0.12859258 0.12929858 0.13000116\n",
            " 0.13070033 0.13139613 0.1320886  0.13277785]\n",
            "25 day output [[0.13346387]]\n",
            "26 day input [0.10809731 0.10255258 0.09808182 0.09973026 0.10027973 0.09943054\n",
            " 0.10402618 0.10300215 0.10327689 0.10097907 0.10085419 0.09963035\n",
            " 0.10027973 0.10784754 0.10837205 0.11341725 0.11109446 0.10152855\n",
            " 0.10237774 0.10609921 0.1098956  0.10967081 0.1065238  0.10447575\n",
            " 0.10712323 0.11841251 0.11519057 0.11688896 0.11973625 0.12135971\n",
            " 0.12732904 0.12338279 0.12078525 0.10804736 0.10949598 0.10592437\n",
            " 0.10819721 0.10759778 0.10077926 0.09298666 0.0942105  0.10025476\n",
            " 0.10270243 0.10292722 0.0990559  0.09041411 0.09271192 0.08939008\n",
            " 0.09226235 0.08349568 0.088416   0.09063889 0.09386083 0.09288676\n",
            " 0.09266197 0.08941506 0.08791648 0.09503472 0.09773215 0.1020031\n",
            " 0.10752285 0.10877167 0.10932114 0.10734802 0.10722314 0.10892152\n",
            " 0.10774764 0.11703881 0.11012039 0.10802238 0.11066986 0.11434138\n",
            " 0.11301763 0.11381687 0.11492221 0.11583215 0.1166929  0.11751609\n",
            " 0.11831161 0.11908732 0.11984917 0.12060128 0.12134655 0.12208669\n",
            " 0.12282284 0.12355547 0.12428488 0.1250111  0.12573412 0.1264538\n",
            " 0.12717016 0.12788308 0.12859258 0.12929858 0.13000116 0.13070033\n",
            " 0.13139613 0.1320886  0.13277785 0.13346387]\n",
            "26 day output [[0.13414675]]\n",
            "27 day input [0.10255258 0.09808182 0.09973026 0.10027973 0.09943054 0.10402618\n",
            " 0.10300215 0.10327689 0.10097907 0.10085419 0.09963035 0.10027973\n",
            " 0.10784754 0.10837205 0.11341725 0.11109446 0.10152855 0.10237774\n",
            " 0.10609921 0.1098956  0.10967081 0.1065238  0.10447575 0.10712323\n",
            " 0.11841251 0.11519057 0.11688896 0.11973625 0.12135971 0.12732904\n",
            " 0.12338279 0.12078525 0.10804736 0.10949598 0.10592437 0.10819721\n",
            " 0.10759778 0.10077926 0.09298666 0.0942105  0.10025476 0.10270243\n",
            " 0.10292722 0.0990559  0.09041411 0.09271192 0.08939008 0.09226235\n",
            " 0.08349568 0.088416   0.09063889 0.09386083 0.09288676 0.09266197\n",
            " 0.08941506 0.08791648 0.09503472 0.09773215 0.1020031  0.10752285\n",
            " 0.10877167 0.10932114 0.10734802 0.10722314 0.10892152 0.10774764\n",
            " 0.11703881 0.11012039 0.10802238 0.11066986 0.11434138 0.11301763\n",
            " 0.11381687 0.11492221 0.11583215 0.1166929  0.11751609 0.11831161\n",
            " 0.11908732 0.11984917 0.12060128 0.12134655 0.12208669 0.12282284\n",
            " 0.12355547 0.12428488 0.1250111  0.12573412 0.1264538  0.12717016\n",
            " 0.12788308 0.12859258 0.12929858 0.13000116 0.13070033 0.13139613\n",
            " 0.1320886  0.13277785 0.13346387 0.13414675]\n",
            "27 day output [[0.13482656]]\n",
            "28 day input [0.09808182 0.09973026 0.10027973 0.09943054 0.10402618 0.10300215\n",
            " 0.10327689 0.10097907 0.10085419 0.09963035 0.10027973 0.10784754\n",
            " 0.10837205 0.11341725 0.11109446 0.10152855 0.10237774 0.10609921\n",
            " 0.1098956  0.10967081 0.1065238  0.10447575 0.10712323 0.11841251\n",
            " 0.11519057 0.11688896 0.11973625 0.12135971 0.12732904 0.12338279\n",
            " 0.12078525 0.10804736 0.10949598 0.10592437 0.10819721 0.10759778\n",
            " 0.10077926 0.09298666 0.0942105  0.10025476 0.10270243 0.10292722\n",
            " 0.0990559  0.09041411 0.09271192 0.08939008 0.09226235 0.08349568\n",
            " 0.088416   0.09063889 0.09386083 0.09288676 0.09266197 0.08941506\n",
            " 0.08791648 0.09503472 0.09773215 0.1020031  0.10752285 0.10877167\n",
            " 0.10932114 0.10734802 0.10722314 0.10892152 0.10774764 0.11703881\n",
            " 0.11012039 0.10802238 0.11066986 0.11434138 0.11301763 0.11381687\n",
            " 0.11492221 0.11583215 0.1166929  0.11751609 0.11831161 0.11908732\n",
            " 0.11984917 0.12060128 0.12134655 0.12208669 0.12282284 0.12355547\n",
            " 0.12428488 0.1250111  0.12573412 0.1264538  0.12717016 0.12788308\n",
            " 0.12859258 0.12929858 0.13000116 0.13070033 0.13139613 0.1320886\n",
            " 0.13277785 0.13346387 0.13414675 0.13482656]\n",
            "28 day output [[0.13550335]]\n",
            "29 day input [0.09973026 0.10027973 0.09943054 0.10402618 0.10300215 0.10327689\n",
            " 0.10097907 0.10085419 0.09963035 0.10027973 0.10784754 0.10837205\n",
            " 0.11341725 0.11109446 0.10152855 0.10237774 0.10609921 0.1098956\n",
            " 0.10967081 0.1065238  0.10447575 0.10712323 0.11841251 0.11519057\n",
            " 0.11688896 0.11973625 0.12135971 0.12732904 0.12338279 0.12078525\n",
            " 0.10804736 0.10949598 0.10592437 0.10819721 0.10759778 0.10077926\n",
            " 0.09298666 0.0942105  0.10025476 0.10270243 0.10292722 0.0990559\n",
            " 0.09041411 0.09271192 0.08939008 0.09226235 0.08349568 0.088416\n",
            " 0.09063889 0.09386083 0.09288676 0.09266197 0.08941506 0.08791648\n",
            " 0.09503472 0.09773215 0.1020031  0.10752285 0.10877167 0.10932114\n",
            " 0.10734802 0.10722314 0.10892152 0.10774764 0.11703881 0.11012039\n",
            " 0.10802238 0.11066986 0.11434138 0.11301763 0.11381687 0.11492221\n",
            " 0.11583215 0.1166929  0.11751609 0.11831161 0.11908732 0.11984917\n",
            " 0.12060128 0.12134655 0.12208669 0.12282284 0.12355547 0.12428488\n",
            " 0.1250111  0.12573412 0.1264538  0.12717016 0.12788308 0.12859258\n",
            " 0.12929858 0.13000116 0.13070033 0.13139613 0.1320886  0.13277785\n",
            " 0.13346387 0.13414675 0.13482656 0.13550335]\n",
            "29 day output [[0.1361772]]\n",
            "[[0.11492221057415009], [0.11583214998245239], [0.11669290065765381], [0.11751608550548553], [0.11831161379814148], [0.11908731609582901], [0.11984916776418686], [0.12060128152370453], [0.12134654819965363], [0.12208668887615204], [0.1228228360414505], [0.12355547398328781], [0.12428487837314606], [0.12501110136508942], [0.1257341206073761], [0.12645380198955536], [0.1271701604127884], [0.12788307666778564], [0.1285925805568695], [0.12929858267307281], [0.13000115752220154], [0.13070033490657806], [0.1313961297273636], [0.13208860158920288], [0.1327778548002243], [0.13346387445926666], [0.13414674997329712], [0.13482655584812164], [0.135503351688385], [0.136177197098732]]\n"
          ]
        }
      ]
    },
    {
      "cell_type": "code",
      "metadata": {
        "id": "8ywJOgcbkDlG"
      },
      "source": [
        "day_new=np.arange(1,101)\n",
        "day_pred=np.arange(101,131)"
      ],
      "execution_count": null,
      "outputs": []
    },
    {
      "cell_type": "code",
      "metadata": {
        "id": "sEfgQAymkDlG"
      },
      "source": [
        "import matplotlib.pyplot as plt"
      ],
      "execution_count": null,
      "outputs": []
    },
    {
      "cell_type": "code",
      "metadata": {
        "colab": {
          "base_uri": "https://localhost:8080/"
        },
        "id": "MJvM3eszkDlH",
        "outputId": "93120641-09b1-46d3-a204-0ee3dfaacf46"
      },
      "source": [
        "len(df1)"
      ],
      "execution_count": null,
      "outputs": [
        {
          "output_type": "execute_result",
          "data": {
            "text/plain": [
              "1258"
            ]
          },
          "metadata": {},
          "execution_count": 48
        }
      ]
    },
    {
      "cell_type": "code",
      "metadata": {
        "id": "tQIHuTvJkDlJ"
      },
      "source": [
        ""
      ],
      "execution_count": null,
      "outputs": []
    },
    {
      "cell_type": "code",
      "metadata": {
        "colab": {
          "base_uri": "https://localhost:8080/",
          "height": 282
        },
        "id": "cWumcRaUkDlK",
        "outputId": "44c3da7e-84c1-466b-c80b-6bb54def09b3"
      },
      "source": [
        "plt.plot(day_new,scaler.inverse_transform(df1[1158:]))\n",
        "plt.plot(day_pred,scaler.inverse_transform(lst_output))"
      ],
      "execution_count": null,
      "outputs": [
        {
          "output_type": "execute_result",
          "data": {
            "text/plain": [
              "[<matplotlib.lines.Line2D at 0x7f450ed14450>]"
            ]
          },
          "metadata": {},
          "execution_count": 49
        },
        {
          "output_type": "display_data",
          "data": {
            "image/png": "[encoded data removed]",
            "text/plain": [
              "<Figure size 432x288 with 1 Axes>"
            ]
          },
          "metadata": {
            "needs_background": "light"
          }
        }
      ]
    },
    {
      "cell_type": "code",
      "metadata": {
        "colab": {
          "base_uri": "https://localhost:8080/",
          "height": 282
        },
        "id": "15xLg1y3kDlL",
        "outputId": "19e09ae9-5aab-46ff-a244-5ec99e8ff82e"
      },
      "source": [
        "df3=df1.tolist()\n",
        "df3.extend(lst_output)\n",
        "plt.plot(df3[1200:])"
      ],
      "execution_count": null,
      "outputs": [
        {
          "output_type": "execute_result",
          "data": {
            "text/plain": [
              "[<matplotlib.lines.Line2D at 0x7f4510fab090>]"
            ]
          },
          "metadata": {},
          "execution_count": 50
        },
        {
          "output_type": "display_data",
          "data": {
            "image/png": "[encoded data removed]",
            "text/plain": [
              "<Figure size 432x288 with 1 Axes>"
            ]
          },
          "metadata": {
            "needs_background": "light"
          }
        }
      ]
    },
    {
      "cell_type": "code",
      "metadata": {
        "id": "EfIKwVgMkDlM"
      },
      "source": [
        "df3=scaler.inverse_transform(df3).tolist()"
      ],
      "execution_count": null,
      "outputs": []
    },
    {
      "cell_type": "code",
      "metadata": {
        "colab": {
          "base_uri": "https://localhost:8080/",
          "height": 282
        },
        "id": "UmKgpHz5kDlO",
        "outputId": "309b758d-93e0-4a91-bf87-3e445763b8ff"
      },
      "source": [
        "plt.plot(df3)"
      ],
      "execution_count": null,
      "outputs": [
        {
          "output_type": "execute_result",
          "data": {
            "text/plain": [
              "[<matplotlib.lines.Line2D at 0x7f450ec4b510>]"
            ]
          },
          "metadata": {},
          "execution_count": 52
        },
        {
          "output_type": "display_data",
          "data": {
            "image/png": "[encoded data removed]",
            "text/plain": [
              "<Figure size 432x288 with 1 Axes>"
            ]
          },
          "metadata": {
            "needs_background": "light"
          }
        }
      ]
    },
    {
      "cell_type": "code",
      "metadata": {
        "id": "-Cqn7gtqkDlP"
      },
      "source": [
        ""
      ],
      "execution_count": null,
      "outputs": []
    }
  ]
}